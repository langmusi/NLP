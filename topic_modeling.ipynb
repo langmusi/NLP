{
  "nbformat": 4,
  "nbformat_minor": 0,
  "metadata": {
    "accelerator": "GPU",
    "colab": {
      "name": "Topic_dbscan_keyphrase.ipynb",
      "provenance": [],
      "collapsed_sections": []
    },
    "kernelspec": {
      "display_name": "Python 3",
      "name": "python3"
    },
    "language_info": {
      "name": "python"
    },
    "widgets": {
      "application/vnd.jupyter.widget-state+json": {
        "f2373eb2ec474a98a2817b4260c220d7": {
          "model_module": "@jupyter-widgets/controls",
          "model_name": "HBoxModel",
          "state": {
            "_view_name": "HBoxView",
            "_dom_classes": [],
            "_model_name": "HBoxModel",
            "_view_module": "@jupyter-widgets/controls",
            "_model_module_version": "1.5.0",
            "_view_count": null,
            "_view_module_version": "1.5.0",
            "box_style": "",
            "layout": "IPY_MODEL_1a91c7abb46740bbad994546669b2517",
            "_model_module": "@jupyter-widgets/controls",
            "children": [
              "IPY_MODEL_7c97c99b159a460b8373c743da481339",
              "IPY_MODEL_168650e357974a8cbe8c6927cf9995b9"
            ]
          }
        },
        "1a91c7abb46740bbad994546669b2517": {
          "model_module": "@jupyter-widgets/base",
          "model_name": "LayoutModel",
          "state": {
            "_view_name": "LayoutView",
            "grid_template_rows": null,
            "right": null,
            "justify_content": null,
            "_view_module": "@jupyter-widgets/base",
            "overflow": null,
            "_model_module_version": "1.2.0",
            "_view_count": null,
            "flex_flow": null,
            "width": null,
            "min_width": null,
            "border": null,
            "align_items": null,
            "bottom": null,
            "_model_module": "@jupyter-widgets/base",
            "top": null,
            "grid_column": null,
            "overflow_y": null,
            "overflow_x": null,
            "grid_auto_flow": null,
            "grid_area": null,
            "grid_template_columns": null,
            "flex": null,
            "_model_name": "LayoutModel",
            "justify_items": null,
            "grid_row": null,
            "max_height": null,
            "align_content": null,
            "visibility": null,
            "align_self": null,
            "height": null,
            "min_height": null,
            "padding": null,
            "grid_auto_rows": null,
            "grid_gap": null,
            "max_width": null,
            "order": null,
            "_view_module_version": "1.2.0",
            "grid_template_areas": null,
            "object_position": null,
            "object_fit": null,
            "grid_auto_columns": null,
            "margin": null,
            "display": null,
            "left": null
          }
        },
        "7c97c99b159a460b8373c743da481339": {
          "model_module": "@jupyter-widgets/controls",
          "model_name": "FloatProgressModel",
          "state": {
            "_view_name": "ProgressView",
            "style": "IPY_MODEL_eb0607e09225414898d0e1f82fd1f9b6",
            "_dom_classes": [],
            "description": "Batches: 100%",
            "_model_name": "FloatProgressModel",
            "bar_style": "success",
            "max": 25,
            "_view_module": "@jupyter-widgets/controls",
            "_model_module_version": "1.5.0",
            "value": 25,
            "_view_count": null,
            "_view_module_version": "1.5.0",
            "orientation": "horizontal",
            "min": 0,
            "description_tooltip": null,
            "_model_module": "@jupyter-widgets/controls",
            "layout": "IPY_MODEL_e03f1a5e35494d45805bf528782e6969"
          }
        },
        "168650e357974a8cbe8c6927cf9995b9": {
          "model_module": "@jupyter-widgets/controls",
          "model_name": "HTMLModel",
          "state": {
            "_view_name": "HTMLView",
            "style": "IPY_MODEL_d1610904a2f1433a9ea914836fba403e",
            "_dom_classes": [],
            "description": "",
            "_model_name": "HTMLModel",
            "placeholder": "​",
            "_view_module": "@jupyter-widgets/controls",
            "_model_module_version": "1.5.0",
            "value": " 25/25 [01:11&lt;00:00,  2.87s/it]",
            "_view_count": null,
            "_view_module_version": "1.5.0",
            "description_tooltip": null,
            "_model_module": "@jupyter-widgets/controls",
            "layout": "IPY_MODEL_dac90845b20b4b6bb9b7cd4b3f50bc01"
          }
        },
        "eb0607e09225414898d0e1f82fd1f9b6": {
          "model_module": "@jupyter-widgets/controls",
          "model_name": "ProgressStyleModel",
          "state": {
            "_view_name": "StyleView",
            "_model_name": "ProgressStyleModel",
            "description_width": "initial",
            "_view_module": "@jupyter-widgets/base",
            "_model_module_version": "1.5.0",
            "_view_count": null,
            "_view_module_version": "1.2.0",
            "bar_color": null,
            "_model_module": "@jupyter-widgets/controls"
          }
        },
        "e03f1a5e35494d45805bf528782e6969": {
          "model_module": "@jupyter-widgets/base",
          "model_name": "LayoutModel",
          "state": {
            "_view_name": "LayoutView",
            "grid_template_rows": null,
            "right": null,
            "justify_content": null,
            "_view_module": "@jupyter-widgets/base",
            "overflow": null,
            "_model_module_version": "1.2.0",
            "_view_count": null,
            "flex_flow": null,
            "width": null,
            "min_width": null,
            "border": null,
            "align_items": null,
            "bottom": null,
            "_model_module": "@jupyter-widgets/base",
            "top": null,
            "grid_column": null,
            "overflow_y": null,
            "overflow_x": null,
            "grid_auto_flow": null,
            "grid_area": null,
            "grid_template_columns": null,
            "flex": null,
            "_model_name": "LayoutModel",
            "justify_items": null,
            "grid_row": null,
            "max_height": null,
            "align_content": null,
            "visibility": null,
            "align_self": null,
            "height": null,
            "min_height": null,
            "padding": null,
            "grid_auto_rows": null,
            "grid_gap": null,
            "max_width": null,
            "order": null,
            "_view_module_version": "1.2.0",
            "grid_template_areas": null,
            "object_position": null,
            "object_fit": null,
            "grid_auto_columns": null,
            "margin": null,
            "display": null,
            "left": null
          }
        },
        "d1610904a2f1433a9ea914836fba403e": {
          "model_module": "@jupyter-widgets/controls",
          "model_name": "DescriptionStyleModel",
          "state": {
            "_view_name": "StyleView",
            "_model_name": "DescriptionStyleModel",
            "description_width": "",
            "_view_module": "@jupyter-widgets/base",
            "_model_module_version": "1.5.0",
            "_view_count": null,
            "_view_module_version": "1.2.0",
            "_model_module": "@jupyter-widgets/controls"
          }
        },
        "dac90845b20b4b6bb9b7cd4b3f50bc01": {
          "model_module": "@jupyter-widgets/base",
          "model_name": "LayoutModel",
          "state": {
            "_view_name": "LayoutView",
            "grid_template_rows": null,
            "right": null,
            "justify_content": null,
            "_view_module": "@jupyter-widgets/base",
            "overflow": null,
            "_model_module_version": "1.2.0",
            "_view_count": null,
            "flex_flow": null,
            "width": null,
            "min_width": null,
            "border": null,
            "align_items": null,
            "bottom": null,
            "_model_module": "@jupyter-widgets/base",
            "top": null,
            "grid_column": null,
            "overflow_y": null,
            "overflow_x": null,
            "grid_auto_flow": null,
            "grid_area": null,
            "grid_template_columns": null,
            "flex": null,
            "_model_name": "LayoutModel",
            "justify_items": null,
            "grid_row": null,
            "max_height": null,
            "align_content": null,
            "visibility": null,
            "align_self": null,
            "height": null,
            "min_height": null,
            "padding": null,
            "grid_auto_rows": null,
            "grid_gap": null,
            "max_width": null,
            "order": null,
            "_view_module_version": "1.2.0",
            "grid_template_areas": null,
            "object_position": null,
            "object_fit": null,
            "grid_auto_columns": null,
            "margin": null,
            "display": null,
            "left": null
          }
        }
      }
    }
  },
  "cells": [
    {
      "cell_type": "code",
      "metadata": {
        "id": "sIlPm4VM1UNa"
      },
      "source": [
        "!pip install bertopic\n",
        "!pip install bertopic[visualization]"
      ],
      "execution_count": null,
      "outputs": []
    },
    {
      "cell_type": "code",
      "metadata": {
        "id": "ggSz3uJo2o5h"
      },
      "source": [
        "from bertopic import BERTopic"
      ],
      "execution_count": null,
      "outputs": []
    },
    {
      "cell_type": "code",
      "metadata": {
        "id": "hh8zplMw1aZ6"
      },
      "source": [
        "import pandas as pd\n",
        "import numpy as np\n",
        "import re\n",
        "\n",
        "import matplotlib.pyplot as plt"
      ],
      "execution_count": null,
      "outputs": []
    },
    {
      "cell_type": "code",
      "metadata": {
        "id": "Tzj-GaXEfuwY"
      },
      "source": [
        "from IPython.core.interactiveshell import InteractiveShell\n",
        "InteractiveShell.ast_node_interactivity = \"all\""
      ],
      "execution_count": null,
      "outputs": []
    },
    {
      "cell_type": "markdown",
      "metadata": {
        "id": "3Z2lMu1TblRB"
      },
      "source": [
        "## Reading Data"
      ]
    },
    {
      "cell_type": "code",
      "metadata": {
        "colab": {
          "base_uri": "https://localhost:8080/",
          "height": 388
        },
        "id": "l_UNBzEW1QoL",
        "outputId": "90e3f6b5-b189-4812-a922-f7e17d0e69c4"
      },
      "source": [
        "df = pd.read_csv('/content/open_dmg_6.csv', sep = ';')   # open_dmg_subset_eventcode.csv  # open_dmg_2\n",
        "print(df.shape)\n",
        "df.head()"
      ],
      "execution_count": null,
      "outputs": [
        {
          "output_type": "stream",
          "text": [
            "(777, 8)\n"
          ],
          "name": "stdout"
        },
        {
          "output_type": "execute_result",
          "data": {
            "text/html": [
              "<div>\n",
              "<style scoped>\n",
              "    .dataframe tbody tr th:only-of-type {\n",
              "        vertical-align: middle;\n",
              "    }\n",
              "\n",
              "    .dataframe tbody tr th {\n",
              "        vertical-align: top;\n",
              "    }\n",
              "\n",
              "    .dataframe thead th {\n",
              "        text-align: right;\n",
              "    }\n",
              "</style>\n",
              "<table border=\"1\" class=\"dataframe\">\n",
              "  <thead>\n",
              "    <tr style=\"text-align: right;\">\n",
              "      <th></th>\n",
              "      <th>TrainsetVehicleNumber</th>\n",
              "      <th>DefectHeading</th>\n",
              "      <th>DefectDescription</th>\n",
              "      <th>FaultIndicationCode</th>\n",
              "      <th>DefectCode</th>\n",
              "      <th>DefectNumber</th>\n",
              "      <th>EventCode_comb</th>\n",
              "      <th>Text</th>\n",
              "    </tr>\n",
              "  </thead>\n",
              "  <tbody>\n",
              "    <tr>\n",
              "      <th>0</th>\n",
              "      <td>X61068</td>\n",
              "      <td>epac bromscylinder felaktig broms ...och felnr...</td>\n",
              "      <td>NaN</td>\n",
              "      <td>NaN</td>\n",
              "      <td>51</td>\n",
              "      <td>15058798</td>\n",
              "      <td>2504</td>\n",
              "      <td>EPAC 1, Bromscylinder 1, felaktig broms</td>\n",
              "    </tr>\n",
              "    <tr>\n",
              "      <th>1</th>\n",
              "      <td>X61056</td>\n",
              "      <td>epac systemfel</td>\n",
              "      <td>epac felaktig 2701,2501, övriga var oxå felakt...</td>\n",
              "      <td>2501.0</td>\n",
              "      <td>513A</td>\n",
              "      <td>17023388</td>\n",
              "      <td>2501 , 2701</td>\n",
              "      <td>Broms vagn A1: EPAC 1 felaktig , Broms vagn A...</td>\n",
              "    </tr>\n",
              "    <tr>\n",
              "      <th>2</th>\n",
              "      <td>X61057</td>\n",
              "      <td>kod 3927 broms avstängd.</td>\n",
              "      <td>kod 3927 broms avstängd.</td>\n",
              "      <td>NaN</td>\n",
              "      <td>53</td>\n",
              "      <td>17080583</td>\n",
              "      <td>3927</td>\n",
              "      <td>Broms vagn A1: MG-broms avstängd</td>\n",
              "    </tr>\n",
              "    <tr>\n",
              "      <th>3</th>\n",
              "      <td>X61060</td>\n",
              "      <td>epac felaktig kod 2701, bromsen boggie avstängd.</td>\n",
              "      <td>precheck: det kommunikations fel till epac det...</td>\n",
              "      <td>NaN</td>\n",
              "      <td>51</td>\n",
              "      <td>14089205</td>\n",
              "      <td>2701</td>\n",
              "      <td>Broms vagn A1: EPAC 2 felaktig</td>\n",
              "    </tr>\n",
              "    <tr>\n",
              "      <th>4</th>\n",
              "      <td>X61033</td>\n",
              "      <td>kom från verkstan. mult med . broms felaktig e...</td>\n",
              "      <td>kom från verkstan. mult med . broms felaktig e...</td>\n",
              "      <td>NaN</td>\n",
              "      <td>51</td>\n",
              "      <td>12114721</td>\n",
              "      <td>2701</td>\n",
              "      <td>Broms vagn A1: EPAC 2 felaktig</td>\n",
              "    </tr>\n",
              "  </tbody>\n",
              "</table>\n",
              "</div>"
            ],
            "text/plain": [
              "  TrainsetVehicleNumber  ...                                               Text\n",
              "0                X61068  ...           EPAC 1, Bromscylinder 1, felaktig broms \n",
              "1                X61056  ...   Broms vagn A1: EPAC 1 felaktig , Broms vagn A...\n",
              "2                X61057  ...                  Broms vagn A1: MG-broms avstängd \n",
              "3                X61060  ...                    Broms vagn A1: EPAC 2 felaktig \n",
              "4                X61033  ...                    Broms vagn A1: EPAC 2 felaktig \n",
              "\n",
              "[5 rows x 8 columns]"
            ]
          },
          "metadata": {
            "tags": []
          },
          "execution_count": 3
        }
      ]
    },
    {
      "cell_type": "markdown",
      "metadata": {
        "id": "loQjxJyZ7rdF"
      },
      "source": [
        "## Cleaning the Text\n",
        "\n",
        "Removing stopwords. \n",
        "\n",
        "*Not need to clean the texts because the texts are clean*"
      ]
    },
    {
      "cell_type": "code",
      "metadata": {
        "id": "Px6OxRHN8kzQ"
      },
      "source": [
        "# from nltk.stem import SnowballStemmer\n",
        "# from nltk.corpus import stopwords\n",
        "# import nltk\n",
        "\n",
        "# nltk.download('stopwords')\n",
        "\n",
        "# stopwords = stopwords.words('swedish')\n",
        "\n",
        "# def PreprocessText(document):\n",
        "      \n",
        "#     # Removing stopwords\n",
        "#     tokens = document.split()\n",
        "#     tokens = [word for word in tokens if word not in stopwords]\n",
        "\n",
        "#     document = ' '.join(tokens)\n",
        "    \n",
        "#     # Stemming words\n",
        "#     stemmer = SnowballStemmer(\"swedish\")\n",
        "#     document = stemmer.stem(document)\n",
        "    \n",
        "#     return document"
      ],
      "execution_count": null,
      "outputs": []
    },
    {
      "cell_type": "code",
      "metadata": {
        "id": "sGNMKb7o9ooY"
      },
      "source": [
        "# df['Text_stopwords_removed'] = [PreprocessText(t) for t in df['Text']]\n",
        "# df[['Text_stopwords_removed', 'Text']]"
      ],
      "execution_count": null,
      "outputs": []
    },
    {
      "cell_type": "code",
      "metadata": {
        "id": "nVeLZj3B7-dY"
      },
      "source": [
        "text = df['Text'].tolist()"
      ],
      "execution_count": null,
      "outputs": []
    },
    {
      "cell_type": "markdown",
      "metadata": {
        "id": "lYhAv8nW07_t"
      },
      "source": [
        "### Checking Max Length of the Sentences"
      ]
    },
    {
      "cell_type": "code",
      "metadata": {
        "id": "xmnJS9wqsRVt"
      },
      "source": [
        "#!pip install transformers"
      ],
      "execution_count": null,
      "outputs": []
    },
    {
      "cell_type": "code",
      "metadata": {
        "id": "obOFu_gSNHFb"
      },
      "source": [
        "!pip install -U sentence-transformers"
      ],
      "execution_count": null,
      "outputs": []
    },
    {
      "cell_type": "code",
      "metadata": {
        "id": "pI9bSoz_0gyu"
      },
      "source": [
        "from transformers import BertTokenizer\n",
        "\n",
        "tokenizer = BertTokenizer.from_pretrained('KB/electra-small-swedish-cased-generator')\n",
        "max_len = 0\n",
        "\n",
        "# For every sentence...\n",
        "for sent in text:\n",
        "\n",
        "    # Tokenize the text and add `[CLS]` and `[SEP]` tokens.\n",
        "    input_ids = tokenizer.encode(sent, add_special_tokens=True)\n",
        "\n",
        "    # Update the maximum sentence length.\n",
        "    max_len = max(max_len, len(input_ids))\n",
        "    \n",
        "    # Update the minimum sentence length\n",
        "\n",
        "print('Max sentence length: ', max_len)"
      ],
      "execution_count": null,
      "outputs": []
    },
    {
      "cell_type": "markdown",
      "metadata": {
        "id": "piaIasUULe9F"
      },
      "source": [
        "# Topic Modeling"
      ]
    },
    {
      "cell_type": "code",
      "metadata": {
        "id": "ZC0l299P1rxS"
      },
      "source": [
        "#topic_model = BERTopic(embedding_model=model, calculate_probabilities=True, nr_topics=\"auto\") \n",
        "#topic_model = BERTopic(embedding_model=\"KB/bert-base-swedish-cased\", calculate_probabilities=True, nr_topics = 30) \n",
        "# model\n",
        "\n",
        "# af-ai-center/bert-large-swedish-uncased\n",
        "# KB/electra-small-swedish-cased-generator\n",
        "bert_pretrained_model = [\"KB/bert-base-swedish-cased\", \"af-ai-center/bert-large-swedish-uncased\", \"KB/electra-small-swedish-cased-generator\"]\n",
        "topic_model = BERTopic(embedding_model=bert_pretrained_model[0], calculate_probabilities=True, nr_topics=15) "
      ],
      "execution_count": null,
      "outputs": []
    },
    {
      "cell_type": "code",
      "metadata": {
        "id": "_DpyaSW08ID5"
      },
      "source": [
        "topics, probs = topic_model.fit_transform(text)"
      ],
      "execution_count": null,
      "outputs": []
    },
    {
      "cell_type": "code",
      "metadata": {
        "id": "Fly-QwSd0C2X"
      },
      "source": [
        "# Further reduce topics\n",
        "new_topics, new_probs = topic_model.reduce_topics(text, topics, probabilities=probs, nr_topics=30)"
      ],
      "execution_count": null,
      "outputs": []
    },
    {
      "cell_type": "code",
      "metadata": {
        "id": "Xsol9ZL98wcJ"
      },
      "source": [
        "topic_freq = topic_model.get_topic_freq()\n",
        "outliers = topic_freq['Count'][topic_freq['Topic']==-1].iloc[0]\n",
        "print(f\"{outliers} texts have not been classified\")\n",
        "print(f\"The other {topic_freq['Count'].sum() - outliers} texts are {topic_freq['Topic'].shape[0]-1} topics\")"
      ],
      "execution_count": null,
      "outputs": []
    },
    {
      "cell_type": "code",
      "metadata": {
        "id": "1aR4sxwK9AQq"
      },
      "source": [
        "topic_freq "
      ],
      "execution_count": null,
      "outputs": []
    },
    {
      "cell_type": "code",
      "metadata": {
        "id": "GAZSLcXZemGW"
      },
      "source": [
        "df_sub_dat_eventcode = df.copy()\n",
        "print(df_sub_dat_eventcode.shape)\n",
        "# df_whole_dat.drop(\"Text\", axis=1, inplace=True)\n",
        "# df_whole_dat.shape"
      ],
      "execution_count": null,
      "outputs": []
    },
    {
      "cell_type": "code",
      "metadata": {
        "id": "lyZtOJK09FKg"
      },
      "source": [
        "#len(topics)\n",
        "df_whole_dat['kb_sv_base_Topics'] = topics\n",
        "#df_whole_dat.drop('Topics', axis=1, inplace=True)\n",
        "df_whole_dat.head()"
      ],
      "execution_count": null,
      "outputs": []
    },
    {
      "cell_type": "code",
      "metadata": {
        "id": "knXuliXV9OPo"
      },
      "source": [
        "df_sub_dat_eventcode.to_csv('./bert_topics_brakeSystem_subdat_eventcode_allmodels.csv',\n",
        "                         decimal = \",\", header = True, index = False, sep = \";\", encoding = \"utf-8-sig\")"
      ],
      "execution_count": null,
      "outputs": []
    },
    {
      "cell_type": "code",
      "metadata": {
        "id": "c3v5sTmSo8Vq"
      },
      "source": [
        "df_sub_dat_eventcode['roberta_Topics'] = topics\n",
        "#df_whole_dat.drop('Topics', axis=1, inplace=True)\n",
        "df_sub_dat_eventcode.head()"
      ],
      "execution_count": null,
      "outputs": []
    },
    {
      "cell_type": "markdown",
      "metadata": {
        "id": "eLEhKaN8Loj-"
      },
      "source": [
        "# HDBSCAN - Cluster"
      ]
    },
    {
      "cell_type": "markdown",
      "metadata": {
        "id": "iQUc7W8dgx3I"
      },
      "source": [
        "### SentenceTransformers Sentence-embedding"
      ]
    },
    {
      "cell_type": "code",
      "metadata": {
        "id": "uHYx3l0GNKoJ"
      },
      "source": [
        "from sentence_transformers import SentenceTransformer"
      ],
      "execution_count": 28,
      "outputs": []
    },
    {
      "cell_type": "code",
      "metadata": {
        "id": "U1HwjN9_f7sL"
      },
      "source": [
        "#topic_model = BERTopic(embedding_model=model, calculate_probabilities=True, nr_topics=\"auto\") \n",
        "#topic_model = BERTopic(embedding_model=\"KB/bert-base-swedish-cased\", calculate_probabilities=True, nr_topics = 30) \n",
        "# model\n",
        "\n",
        "# af-ai-center/bert-large-swedish-uncased\n",
        "# KB/electra-small-swedish-cased-generator\n",
        "\n",
        "bert_pretrained_model = [\"KB/bert-base-swedish-cased\", \"af-ai-center/bert-large-swedish-uncased\", \"KB/electra-small-swedish-cased-generator\"]\n",
        "sbert_pretained_model = \"Contrastive-Tension/BERT-Base-Swe-CT-STSb\"\n",
        "model_st = SentenceTransformer(bert_pretrained_model[0], device='cuda')  # stsb-xlm-r-multilingual"
      ],
      "execution_count": 29,
      "outputs": []
    },
    {
      "cell_type": "code",
      "metadata": {
        "id": "oWe6L1Jd1sHZ",
        "colab": {
          "base_uri": "https://localhost:8080/",
          "height": 82,
          "referenced_widgets": [
            "f2373eb2ec474a98a2817b4260c220d7",
            "1a91c7abb46740bbad994546669b2517",
            "7c97c99b159a460b8373c743da481339",
            "168650e357974a8cbe8c6927cf9995b9",
            "eb0607e09225414898d0e1f82fd1f9b6",
            "e03f1a5e35494d45805bf528782e6969",
            "d1610904a2f1433a9ea914836fba403e",
            "dac90845b20b4b6bb9b7cd4b3f50bc01"
          ]
        },
        "outputId": "7ba72de3-0274-4b9f-8c79-471f4ba96854"
      },
      "source": [
        "# https://www.sbert.net/examples/applications/computing-embeddings/README.html\n",
        "model_st.max_seq_length = 80\n",
        "\n",
        "sentence_embeddings = model_st.encode(text, normalize_embeddings=True, show_progress_bar=True)\n",
        "sentence_embeddings.shape\n",
        "len(sentence_embeddings[0])"
      ],
      "execution_count": 30,
      "outputs": [
        {
          "output_type": "display_data",
          "data": {
            "application/vnd.jupyter.widget-view+json": {
              "model_id": "f2373eb2ec474a98a2817b4260c220d7",
              "version_minor": 0,
              "version_major": 2
            },
            "text/plain": [
              "HBox(children=(FloatProgress(value=0.0, description='Batches', max=25.0, style=ProgressStyle(description_width…"
            ]
          },
          "metadata": {
            "tags": []
          }
        },
        {
          "output_type": "stream",
          "text": [
            "\n"
          ],
          "name": "stdout"
        },
        {
          "output_type": "execute_result",
          "data": {
            "text/plain": [
              "(777, 768)"
            ]
          },
          "metadata": {
            "tags": []
          },
          "execution_count": 30
        },
        {
          "output_type": "execute_result",
          "data": {
            "text/plain": [
              "768"
            ]
          },
          "metadata": {
            "tags": []
          },
          "execution_count": 30
        }
      ]
    },
    {
      "cell_type": "code",
      "metadata": {
        "colab": {
          "base_uri": "https://localhost:8080/"
        },
        "id": "j-2s7I9xgIA2",
        "outputId": "4f0e9457-a25a-43f9-b4e5-a063a706ca68"
      },
      "source": [
        "type(sentence_embeddings)"
      ],
      "execution_count": 31,
      "outputs": [
        {
          "output_type": "execute_result",
          "data": {
            "text/plain": [
              "numpy.ndarray"
            ]
          },
          "metadata": {
            "tags": []
          },
          "execution_count": 31
        }
      ]
    },
    {
      "cell_type": "code",
      "metadata": {
        "id": "Nd4YFpH4gLx5"
      },
      "source": [
        "for sentence, embedding in zip(text[:2], sentence_embeddings[0:2]):\n",
        "    print(\"Sentence:\", sentence)\n",
        "    print(\"Embedding:\", embedding)\n",
        "    print(\"\")"
      ],
      "execution_count": null,
      "outputs": []
    },
    {
      "cell_type": "markdown",
      "metadata": {
        "id": "KHu0x7D1LSwQ"
      },
      "source": [
        "### Testing Contrastive Tension Model"
      ]
    },
    {
      "cell_type": "code",
      "metadata": {
        "id": "KHvU52blahTW"
      },
      "source": [
        "!pip install transformers"
      ],
      "execution_count": null,
      "outputs": []
    },
    {
      "cell_type": "code",
      "metadata": {
        "id": "bfeFy2NdLRnB"
      },
      "source": [
        "from torchvision import transforms\n",
        "from transformers import AutoTokenizer, AutoModel\n",
        "\n",
        "sbert_pretained_model = \"Contrastive-Tension/BERT-Base-Swe-CT-STSb\"\n",
        "model_ct = AutoModel.from_pretrained(sbert_pretained_model)\n",
        "tokenizer_ct = AutoTokenizer.from_pretrained(sbert_pretained_model)\n",
        "#model_ct_st = SentenceTransformer(model_ct, device='cuda')  "
      ],
      "execution_count": null,
      "outputs": []
    },
    {
      "cell_type": "code",
      "metadata": {
        "id": "pPv31iEfP46K"
      },
      "source": [
        "# https://github.com/huggingface/transformers/blob/master/README.md\n",
        "#inputs = tokenizer_ct(\"Hello world!\", return_tensors=\"pt\")\n",
        "\n",
        "inputs = [tokenizer_ct(t, return_tensors=\"pt\") for t in text]\n",
        "\n",
        "#outputs = model_ct(**inputs)\n",
        "outputs = [model_ct(**t) for t in inputs]"
      ],
      "execution_count": null,
      "outputs": []
    },
    {
      "cell_type": "code",
      "metadata": {
        "colab": {
          "base_uri": "https://localhost:8080/"
        },
        "id": "7tX2gOZNVo0n",
        "outputId": "6a445f22-0981-4b8c-9f60-b4bc3fbf0396"
      },
      "source": [
        "len(outputs)\n",
        "outputs[2][1].shape"
      ],
      "execution_count": null,
      "outputs": [
        {
          "output_type": "execute_result",
          "data": {
            "text/plain": [
              "777"
            ]
          },
          "metadata": {
            "tags": []
          },
          "execution_count": 11
        },
        {
          "output_type": "execute_result",
          "data": {
            "text/plain": [
              "torch.Size([1, 768])"
            ]
          },
          "metadata": {
            "tags": []
          },
          "execution_count": 11
        }
      ]
    },
    {
      "cell_type": "code",
      "metadata": {
        "colab": {
          "base_uri": "https://localhost:8080/"
        },
        "id": "jkkFA2XpV5N2",
        "outputId": "46175780-ccc3-4ad8-ca13-540169a0e7f3"
      },
      "source": [
        "ct_embedding = []\n",
        "\n",
        "for i in range(len(outputs)):\n",
        "  ct_embedding.append(outputs[i][1])\n",
        "\n",
        "len(ct_embedding)\n",
        "ct_embedding[2].shape\n",
        "print(type(ct_embedding))"
      ],
      "execution_count": 40,
      "outputs": [
        {
          "output_type": "execute_result",
          "data": {
            "text/plain": [
              "777"
            ]
          },
          "metadata": {
            "tags": []
          },
          "execution_count": 40
        },
        {
          "output_type": "execute_result",
          "data": {
            "text/plain": [
              "torch.Size([1, 768])"
            ]
          },
          "metadata": {
            "tags": []
          },
          "execution_count": 40
        },
        {
          "output_type": "stream",
          "text": [
            "<class 'list'>\n"
          ],
          "name": "stdout"
        }
      ]
    },
    {
      "cell_type": "code",
      "metadata": {
        "colab": {
          "base_uri": "https://localhost:8080/"
        },
        "id": "8fd_JnyxaCM3",
        "outputId": "477df8f4-e7dc-4b5f-8f12-8617c485274b"
      },
      "source": [
        "#In general you can concatenate a whole sequence of arrays along any axis:\n",
        "import torch\n",
        "\n",
        "ct_embedding = [arr.detach().numpy() for arr in ct_embedding]\n",
        "ct_embedding = np.concatenate(ct_embedding, axis=0)\n",
        "ct_embedding.shape"
      ],
      "execution_count": 41,
      "outputs": [
        {
          "output_type": "execute_result",
          "data": {
            "text/plain": [
              "(777, 768)"
            ]
          },
          "metadata": {
            "tags": []
          },
          "execution_count": 41
        }
      ]
    },
    {
      "cell_type": "code",
      "metadata": {
        "colab": {
          "base_uri": "https://localhost:8080/"
        },
        "id": "ggIjKmvejjGE",
        "outputId": "92c46c84-05d4-45a6-8a25-5bd1682a2b6f"
      },
      "source": [
        "ct_embedding"
      ],
      "execution_count": 52,
      "outputs": [
        {
          "output_type": "execute_result",
          "data": {
            "text/plain": [
              "array([[ 0.99528605,  0.12804866,  0.6166782 , ...,  0.11700249,\n",
              "        -0.88128096,  0.05010965],\n",
              "       [ 0.99596804,  0.044147  ,  0.7857924 , ...,  0.1331169 ,\n",
              "        -0.75641054,  0.00372588],\n",
              "       [ 0.99033654,  0.15417299,  0.87348986, ...,  0.25569487,\n",
              "        -0.8971724 ,  0.19997671],\n",
              "       ...,\n",
              "       [ 0.99033654,  0.15417299,  0.87348986, ...,  0.25569487,\n",
              "        -0.8971724 ,  0.19997671],\n",
              "       [ 0.9945094 ,  0.09540703,  0.68047374, ...,  0.10220195,\n",
              "        -0.9589076 ,  0.03805938],\n",
              "       [ 0.9945094 ,  0.09540703,  0.68047374, ...,  0.10220195,\n",
              "        -0.9589076 ,  0.03805938]], dtype=float32)"
            ]
          },
          "metadata": {
            "tags": []
          },
          "execution_count": 52
        }
      ]
    },
    {
      "cell_type": "markdown",
      "metadata": {
        "id": "y6lcyrJsd2G3"
      },
      "source": [
        "### Dimension Reduction\n",
        "\n",
        "Why is dimensionality reduction always done before clustering? - https://stats.stackexchange.com/questions/256172/why-is-dimensionality-reduction-always-done-before-clustering\n",
        "\n",
        "R: https://towardsdatascience.com/how-to-cluster-in-high-dimensions-4ef693bacc6: Graph-based clustering (Spectral, SNN-cliq, Seurat) is perhaps most robust for high-dimensional data as it uses the distance on a graph.\n",
        "\n",
        "(From the same article as the above link shows)HDBSCAN, i.e. Hierarchical DBSCAN, is a powerful density-based clustering algorithm which is: 1) indifferent to the shape of clusters, 2) does not require the number of clusters to be specified, 3) robust with respect to clusters with different density. Further, HBDSCAN is very attractive because it has only one hyperparameter minPts which is the minimal number of points in a cluster. It is relatively fast for large data sets, detects outlying cells, and for each cell it reports a probability of assignment to a cluster."
      ]
    },
    {
      "cell_type": "markdown",
      "metadata": {
        "id": "v3FsHYehjywm"
      },
      "source": [
        "One very popular method for visualizing document similarity is to use t-distributed stochastic neighbor embedding, t-SNE. - https://www.scikit-yb.org/en/latest/api/text/tsne.html"
      ]
    },
    {
      "cell_type": "markdown",
      "metadata": {
        "id": "2nj3EW05oVDK"
      },
      "source": [
        "#### UMAP\n",
        "\n",
        "Uniform Manifold Approximation and Projection for Dimension Reduction"
      ]
    },
    {
      "cell_type": "code",
      "metadata": {
        "id": "zDvqYDN6s5pc"
      },
      "source": [
        "!pip install umap-learn"
      ],
      "execution_count": null,
      "outputs": []
    },
    {
      "cell_type": "code",
      "metadata": {
        "id": "TsDqUYX1d4L3"
      },
      "source": [
        "import umap"
      ],
      "execution_count": 46,
      "outputs": []
    },
    {
      "cell_type": "code",
      "metadata": {
        "id": "4XdMXC0po4Iq",
        "colab": {
          "base_uri": "https://localhost:8080/"
        },
        "outputId": "db646ec4-607d-46e6-9309-4e9e8b646d27"
      },
      "source": [
        "# https://umap-learn.readthedocs.io/en/latest/sparse.html A text analysis example\n",
        "reducer = umap.UMAP(metric='cosine', random_state=42)  # hellinger does not support negative values\n",
        "reducer.fit(ct_embedding) # sentence_embeddings"
      ],
      "execution_count": 53,
      "outputs": [
        {
          "output_type": "execute_result",
          "data": {
            "text/plain": [
              "UMAP(a=None, angular_rp_forest=True, b=None, dens_frac=0.0, dens_lambda=0.0,\n",
              "     dens_var_shift=0.1, densmap=False, disconnection_distance=None,\n",
              "     force_approximation_algorithm=False, init='spectral', learning_rate=1.0,\n",
              "     local_connectivity=1.0, low_memory=True, metric='cosine', metric_kwds=None,\n",
              "     min_dist=0.1, n_components=2, n_epochs=None, n_jobs=-1, n_neighbors=15,\n",
              "     negative_sample_rate=5, output_dens=False, output_metric='euclidean',\n",
              "     output_metric_kwds=None, random_state=42, repulsion_strength=1.0,\n",
              "     set_op_mix_ratio=1.0, spread=1.0, target_metric='categorical',\n",
              "     target_metric_kwds=None, ...)"
            ]
          },
          "metadata": {
            "tags": []
          },
          "execution_count": 53
        }
      ]
    },
    {
      "cell_type": "code",
      "metadata": {
        "id": "1dv3kJy4pUTg",
        "colab": {
          "base_uri": "https://localhost:8080/"
        },
        "outputId": "fc809e16-c4a3-46b4-af70-5b56f06a0a34"
      },
      "source": [
        "umap_embedding = reducer.transform(ct_embedding) # sentence_embeddings\n",
        "# Verify that the result of calling transform is\n",
        "# idenitical to accessing the embedding_ attribute\n",
        "assert(np.all(umap_embedding == reducer.embedding_))\n",
        "umap_embedding.shape"
      ],
      "execution_count": 54,
      "outputs": [
        {
          "output_type": "execute_result",
          "data": {
            "text/plain": [
              "(777, 2)"
            ]
          },
          "metadata": {
            "tags": []
          },
          "execution_count": 54
        }
      ]
    },
    {
      "cell_type": "code",
      "metadata": {
        "id": "Y355nE8Hp1I-"
      },
      "source": [
        "plt.scatter(umap_embedding[:, 0], umap_embedding[:, 1],cmap='Spectral', s=5)\n",
        "plt.gca().set_aspect('equal', 'datalim')\n",
        "plt.colorbar(boundaries=np.arange(11)-0.5).set_ticks(np.arange(10))\n",
        "plt.title('UMAP projection of the texts', fontsize=24);"
      ],
      "execution_count": null,
      "outputs": []
    },
    {
      "cell_type": "markdown",
      "metadata": {
        "id": "D2kRE7d98W90"
      },
      "source": [
        "## HDBSCAN\n",
        "\n",
        "https://hdbscan.readthedocs.io/en/latest/parameter_selection.html\n",
        "\n",
        "https://www.johnkraszewski.com/nlp\n",
        "Two investigated algorithms were k-means clustering (Ball Tree) (22) and HDBSCAN (23). As shown in the following visualizations, the latter method was found to be much superior with regard to the cluster structure and consistency at the cost of higher complexity. Another benefit of the chosen algorithm was specifying outliers (cluster -1, dark grey)."
      ]
    },
    {
      "cell_type": "code",
      "metadata": {
        "id": "Io4iYa44s_86"
      },
      "source": [
        "!pip install hdbscan"
      ],
      "execution_count": null,
      "outputs": []
    },
    {
      "cell_type": "code",
      "metadata": {
        "id": "UEoldCuOguSq"
      },
      "source": [
        "import hdbscan\n",
        "import sklearn.cluster as cluster\n",
        "import time\n",
        "import seaborn as sns\n",
        "%matplotlib inline\n",
        "sns.set_context('poster')\n",
        "sns.set_color_codes()\n",
        "plot_kwds = {'alpha' : 0.25, 's' : 80, 'linewidths':0}\n",
        "\n",
        "#from sklearn.preprocessing import StandardScaler "
      ],
      "execution_count": 48,
      "outputs": []
    },
    {
      "cell_type": "code",
      "metadata": {
        "id": "d1UAUsCC9JmC"
      },
      "source": [
        "def plot_clusters(data, algorithm, args, kwds):\n",
        "    start_time = time.time()\n",
        "    labels = algorithm(*args, **kwds).fit_predict(data)\n",
        "    end_time = time.time()\n",
        "    palette = sns.color_palette('deep', np.unique(labels).max() + 1)\n",
        "    colors = [palette[x] if x >= 0 else (0.0, 0.0, 0.0) for x in labels]\n",
        "    plt.scatter(data.T[0], data.T[1], c=colors, **plot_kwds)\n",
        "    frame = plt.gca()\n",
        "    frame.axes.get_xaxis().set_visible(False)\n",
        "    frame.axes.get_yaxis().set_visible(False)\n",
        "    plt.title('Clusters found by {}'.format(str(algorithm.__name__)), fontsize=24)\n",
        "    plt.text(-0.5, 0.7, 'Clustering took {:.2f} s'.format(end_time - start_time), fontsize=14)"
      ],
      "execution_count": 56,
      "outputs": []
    },
    {
      "cell_type": "code",
      "metadata": {
        "id": "bHiCr5Lniq3q",
        "colab": {
          "base_uri": "https://localhost:8080/",
          "height": 285
        },
        "outputId": "1439d7f9-f894-40ff-f184-72a6ccb66842"
      },
      "source": [
        "plot_clusters(umap_embedding, hdbscan.HDBSCAN, (), {'min_cluster_size':50})"
      ],
      "execution_count": 57,
      "outputs": [
        {
          "output_type": "display_data",
          "data": {
            "image/png": "[encoded data removed]",
            "text/plain": [
              "<Figure size 432x288 with 1 Axes>"
            ]
          },
          "metadata": {
            "tags": [],
            "needs_background": "light"
          }
        }
      ]
    },
    {
      "cell_type": "code",
      "metadata": {
        "id": "uQZIojVlIGoU"
      },
      "source": [
        "plot_clusters(sentence_embeddings, hdbscan.HDBSCAN, (), {'min_cluster_size':50})"
      ],
      "execution_count": null,
      "outputs": []
    },
    {
      "cell_type": "code",
      "metadata": {
        "id": "v2X2UzpR9oOy"
      },
      "source": [
        "plot_clusters(umap_embedding, cluster.SpectralClustering, (), {'n_clusters':6})"
      ],
      "execution_count": null,
      "outputs": []
    },
    {
      "cell_type": "code",
      "metadata": {
        "id": "7fK8tYln95hS"
      },
      "source": [
        "plot_clusters(umap_embedding, cluster.DBSCAN, (), {'eps':5.25})"
      ],
      "execution_count": null,
      "outputs": []
    },
    {
      "cell_type": "code",
      "metadata": {
        "id": "Dir6yzpPjEgH"
      },
      "source": [
        "# min_samples: We can recover some of our original clusters by explicitly providing min_samples at the original value of 15.\n",
        "# Increasing the min_cluster_size to 30 reduces the number of clusters, merging some together.\n",
        "# The larger the value of min_samples you provide, the more conservative the clustering – more points will be declared as noise, and clusters will be restricted to progressively more dense areas. \n",
        "# Leaf clustering: https://hdbscan.readthedocs.io/en/latest/parameter_selection.html\n",
        "# A: https://hdbscan.readthedocs.io/en/latest/api.html\n",
        "\n",
        "clusterer = hdbscan.HDBSCAN(min_cluster_size=20, \n",
        "                            #min_samples=15, \n",
        "                            #gen_min_span_tree=True, \n",
        "                            #cluster_selection_method='leaf',\n",
        "                            metric='l2', #  If metric is “precomputed”, X is assumed to be a distance matrix and must be square. -A\n",
        "                            allow_single_cluster=True)\n",
        "\n",
        "clusterer.fit(umap_embedding)"
      ],
      "execution_count": null,
      "outputs": []
    },
    {
      "cell_type": "markdown",
      "metadata": {
        "id": "oewIi77UHmnM"
      },
      "source": [
        "### Searching Grid for min_cluster_size"
      ]
    },
    {
      "cell_type": "code",
      "metadata": {
        "id": "BHv61Qq3EyoX"
      },
      "source": [
        "from sklearn.metrics import silhouette_samples, silhouette_score"
      ],
      "execution_count": null,
      "outputs": []
    },
    {
      "cell_type": "code",
      "metadata": {
        "id": "gOWUHzNsHr9k"
      },
      "source": [
        "for size in range(10, 40, 5):\n",
        "  clusterer = hdbscan.HDBSCAN(min_cluster_size=size)\n",
        "  labels = clusterer.fit_predict(umap_embedding)\n",
        "\n",
        "  #print((silhouette_score(umap_embedding, labels, metric='euclidean')))\n",
        "  print(\"With size {} and metric euclidean. silhouette_score is {}\".format(size, silhouette_score(umap_embedding, labels, metric='euclidean')))\n",
        "  print(\"With size {} and metric cosine. silhouette_score is {}\".format(size, silhouette_score(umap_embedding, labels, metric='cosine')))\n",
        "  #print((silhouette_score(umap_embedding, labels, metric='cosine')))"
      ],
      "execution_count": null,
      "outputs": []
    },
    {
      "cell_type": "code",
      "metadata": {
        "id": "KGPSOH01Jm7h"
      },
      "source": [
        "for size in range(10, 40, 5):\n",
        "  clusterer = hdbscan.HDBSCAN(min_cluster_size=size)\n",
        "  labels = clusterer.fit_predict(sentence_embeddings)\n",
        "\n",
        "  print((silhouette_score(sentence_embeddings, labels, metric='euclidean')))\n",
        "  print((silhouette_score(sentence_embeddings, labels, metric='cosine')))"
      ],
      "execution_count": null,
      "outputs": []
    },
    {
      "cell_type": "code",
      "metadata": {
        "id": "QuSyT8onJmmw"
      },
      "source": [
        "color_palette = sns.color_palette('Paired', 12)\n",
        "cluster_colors = [color_palette[x] if x >= 0\n",
        "                  else (0.5, 0.5, 0.5)\n",
        "                  for x in clusterer.labels_]\n",
        "cluster_member_colors = [sns.desaturate(x, p) for x, p in\n",
        "                         zip(cluster_colors, clusterer.probabilities_)]\n",
        "#cluster_colors\n",
        "plt.scatter(umap_embedding[:, 0], umap_embedding[:, 1], c=cluster_colors, **plot_kwds)"
      ],
      "execution_count": null,
      "outputs": []
    },
    {
      "cell_type": "code",
      "metadata": {
        "id": "XL6eZg1fIUnZ"
      },
      "source": [
        "print(clusterer.labels_.max())\n",
        "\n",
        "# Number of clusters in labels, ignoring noise if present.\n",
        "n_clusters_ = len(set(clusterer.labels_)) - (1 if -1 in clusterer.labels_ else 0)\n",
        "print(n_clusters_)\n",
        "\n",
        "n_noise_ = list(clusterer.labels_).count(-1)\n",
        "print(n_noise_)"
      ],
      "execution_count": null,
      "outputs": []
    },
    {
      "cell_type": "code",
      "metadata": {
        "id": "w4D-EgfSEjDQ"
      },
      "source": [
        "# building cluster hierarchy\n",
        "clusterer.single_linkage_tree_.plot(cmap='viridis', colorbar=True)"
      ],
      "execution_count": null,
      "outputs": []
    },
    {
      "cell_type": "code",
      "metadata": {
        "id": "oJCGOfsFAl-X"
      },
      "source": [
        "clusterer.fit(sentence_embeddings)\n",
        "\n",
        "palette = sns.color_palette()\n",
        "cluster_colors = [sns.desaturate(palette[col], sat)\n",
        "                  if col >= 0 else (0.5, 0.5, 0.5) for col, sat in\n",
        "                  zip(clusterer.labels_, clusterer.probabilities_)]\n",
        "#cluster_colors\n",
        "plt.scatter(umap_embedding[:, 0], umap_embedding[:, 1], c=cluster_colors, **plot_kwds)"
      ],
      "execution_count": null,
      "outputs": []
    },
    {
      "cell_type": "code",
      "metadata": {
        "id": "yxLKKvOcIagc"
      },
      "source": [
        "clusterer.labels_.max()"
      ],
      "execution_count": null,
      "outputs": []
    },
    {
      "cell_type": "markdown",
      "metadata": {
        "id": "BRfQDdCiEGt8"
      },
      "source": [
        "### Silhouette Score"
      ]
    },
    {
      "cell_type": "code",
      "metadata": {
        "id": "g2y-wIo3E5LS"
      },
      "source": [
        "# The silhouette_score gives the average value for all the samples.\n",
        "# This gives a perspective into the density and separation of the formed clusters\n",
        "print(silhouette_score(umap_embedding, clusterer.labels_, metric='cosine'))\n",
        "print(silhouette_score(sentence_embeddings, clusterer.labels_, metric='cosine'))\n",
        "print(silhouette_score(umap_embedding, clusterer.labels_, metric='euclidean'))\n",
        "silhouette_score(sentence_embeddings, clusterer.labels_, metric='euclidean')"
      ],
      "execution_count": null,
      "outputs": []
    },
    {
      "cell_type": "code",
      "metadata": {
        "id": "0ZkRlaOVxqGv"
      },
      "source": [
        " # Compute the silhouette scores for each sample\n",
        "sample_silhouette_values = silhouette_samples(umap_embedding, cluster_labels)"
      ],
      "execution_count": null,
      "outputs": []
    },
    {
      "cell_type": "code",
      "metadata": {
        "id": "xvLreecGAao-"
      },
      "source": [
        "clusterer.minimum_spanning_tree_.plot(edge_cmap='viridis',\n",
        "                                      edge_alpha=0.6,\n",
        "                                      node_size=80,\n",
        "                                      edge_linewidth=2)"
      ],
      "execution_count": null,
      "outputs": []
    },
    {
      "cell_type": "code",
      "metadata": {
        "id": "mGcBSHjXA7Dm"
      },
      "source": [
        "clusterer.labels_"
      ],
      "execution_count": null,
      "outputs": []
    },
    {
      "cell_type": "markdown",
      "metadata": {
        "id": "mzJowuw9lZVc"
      },
      "source": [
        "## Custom Function for All Models"
      ]
    },
    {
      "cell_type": "code",
      "metadata": {
        "id": "tFESEyW0REfr"
      },
      "source": [
        "def mycluster(text_list, bert_model, custom_mincluster_size, dimension_reduc_embedding = True, custom_max_seq_length = 35):\n",
        "  \n",
        "  # sentence embedding\n",
        "  model_st = SentenceTransformer(bert_model, device='cuda') \n",
        "  model_st.max_seq_length = custom_max_seq_length\n",
        "  sentence_embeddings = model_st.encode(text_list, normalize_embeddings=True, show_progress_bar=True)\n",
        "\n",
        "  # dimension reduction\n",
        "  reducer = umap.UMAP(random_state=42, metric='cosine')\n",
        "  reducer.fit(sentence_embeddings)\n",
        "  umap_embedding = reducer.transform(sentence_embeddings)\n",
        "\n",
        "  # clustering HDBSCAN\n",
        "  clusterer = hdbscan.HDBSCAN(min_cluster_size=custom_mincluster_size)\n",
        "  \n",
        "  if dimension_reduc_embedding == True:\n",
        "    clusterer.fit(umap_embedding)\n",
        "  else:\n",
        "    clusterer.fit(sentence_embeddings)\n",
        "\n",
        "  unique_value = np.unique(clusterer.labels_)\n",
        "\n",
        "  return clusterer.labels_, unique_value\n"
      ],
      "execution_count": null,
      "outputs": []
    },
    {
      "cell_type": "code",
      "metadata": {
        "id": "IYlhtH9JBqqc"
      },
      "source": [
        "def mycluster_ct(text_list, custom_mincluster_size, dimension_reduc_embedding = True):\n",
        "  \n",
        "  # sentence embedding\n",
        "  # model_st = transformers.AutoModel.from_pretrained(bert_model)\n",
        "  # model_st = SentenceTransformer(bert_model, device='cuda')  \n",
        "  # model_st.max_seq_length = custom_max_seq_length\n",
        "  # sentence_embeddings = model_st.encode(text_list, normalize_embeddings=True, show_progress_bar=True)\n",
        "\n",
        "  # dimension reduction\n",
        "  reducer = umap.UMAP(random_state=42, metric='cosine')\n",
        "  reducer.fit(ct_embedding)\n",
        "  umap_embedding = reducer.transform(ct_embedding)\n",
        "\n",
        "  # clustering HDBSCAN\n",
        "  clusterer = hdbscan.HDBSCAN(min_cluster_size=custom_mincluster_size)\n",
        "  \n",
        "  if dimension_reduc_embedding == True:\n",
        "    clusterer.fit(umap_embedding)\n",
        "  else:\n",
        "    clusterer.fit(ct_embedding)\n",
        "\n",
        "  unique_value = np.unique(clusterer.labels_)\n",
        "\n",
        "  return clusterer.labels_, unique_value"
      ],
      "execution_count": 62,
      "outputs": []
    },
    {
      "cell_type": "code",
      "metadata": {
        "id": "hPA-_wTCK7Mn"
      },
      "source": [
        "custom_min_cluster_size = 20"
      ],
      "execution_count": 43,
      "outputs": []
    },
    {
      "cell_type": "code",
      "metadata": {
        "id": "LTQb0sGUxe5o"
      },
      "source": [
        "#topic_model = BERTopic(embedding_model=\"KB/bert-base-swedish-cased\", calculate_probabilities=True, nr_topics = 30) \n",
        "# model\n",
        "\n",
        "# af-ai-center/bert-large-swedish-uncased\n",
        "# KB/electra-small-swedish-cased-generator\n",
        "\n",
        "bert_pretrained_model = [\"KB/bert-base-swedish-cased\", \"af-ai-center/bert-large-swedish-uncased\", \"KB/electra-small-swedish-cased-generator\"]\n",
        "sbert_pretrained_model = \"Contrastive-Tension/BERT-Base-Swe-CT-STSb\"\n",
        "bert_base_cluster, bert_base_unique_cluster = mycluster_sbert(text, bert_model=sbert_pretrained_model,\n",
        "                                                        dimension_reduc_embedding = True,\n",
        "                                                        custom_mincluster_size = custom_min_cluster_size)\n",
        "#elec_cluster\n",
        "bert_base_unique_cluster"
      ],
      "execution_count": null,
      "outputs": []
    },
    {
      "cell_type": "code",
      "metadata": {
        "id": "2qDuL650lEhP"
      },
      "source": [
        "#topic_model = BERTopic(embedding_model=\"KB/bert-base-swedish-cased\", calculate_probabilities=True, nr_topics = 30) \n",
        "# model\n",
        "\n",
        "# af-ai-center/bert-large-swedish-uncased\n",
        "# KB/electra-small-swedish-cased-generator\n",
        "\n",
        "af_cluster, af_unique_cluster = mycluster(text, bert_model=bert_pretrained_model[1],\n",
        "                                       custom_mincluster_size = custom_min_cluster_size)\n",
        "#af_cluster\n",
        "af_unique_cluster"
      ],
      "execution_count": null,
      "outputs": []
    },
    {
      "cell_type": "code",
      "metadata": {
        "id": "4H_yHw7anSgk"
      },
      "source": [
        "elec_cluster, elec_unique_cluster = mycluster(text, bert_model=bert_pretrained_model[2],\n",
        "                                                 custom_mincluster_size = custom_min_cluster_size)\n",
        "\n",
        "elec_unique_cluster"
      ],
      "execution_count": null,
      "outputs": []
    },
    {
      "cell_type": "code",
      "metadata": {
        "colab": {
          "base_uri": "https://localhost:8080/"
        },
        "id": "N3c0KBeCi26c",
        "outputId": "3fa85cd9-541a-47b3-bff4-1dd182b7f55b"
      },
      "source": [
        "# ct model\n",
        "ct_cluster, ct_unique_cluster = mycluster_ct(text, dimension_reduc_embedding = True,\n",
        "                                             custom_mincluster_size = 40)\n",
        "#elec_cluster\n",
        "ct_unique_cluster"
      ],
      "execution_count": 63,
      "outputs": [
        {
          "output_type": "execute_result",
          "data": {
            "text/plain": [
              "array([-1,  0,  1,  2,  3,  4,  5,  6,  7,  8])"
            ]
          },
          "metadata": {
            "tags": []
          },
          "execution_count": 63
        }
      ]
    },
    {
      "cell_type": "code",
      "metadata": {
        "id": "MPh5Z9PFPBIi"
      },
      "source": [
        "# df['af_cluster'] = af_cluster\n",
        "# df['elec_cluster'] = elec_cluster\n",
        "df['ct_cluster'] = ct_cluster\n",
        "df"
      ],
      "execution_count": null,
      "outputs": []
    },
    {
      "cell_type": "markdown",
      "metadata": {
        "id": "o0Xykijryysk"
      },
      "source": [
        "# KeyBERT\n",
        "\n",
        "https://github.com/MaartenGr/KeyBERT"
      ]
    },
    {
      "cell_type": "code",
      "metadata": {
        "id": "ua4LW8Udy55N"
      },
      "source": [
        "!pip install keybert"
      ],
      "execution_count": null,
      "outputs": []
    },
    {
      "cell_type": "code",
      "metadata": {
        "id": "7Tt7ZRMzzMcr"
      },
      "source": [
        "from keybert import KeyBERT"
      ],
      "execution_count": null,
      "outputs": []
    },
    {
      "cell_type": "code",
      "metadata": {
        "id": "K1NS-sz5zSRw"
      },
      "source": [
        "# https://github.com/MaartenGr/KeyBERT/issues/24\n",
        "bert_pretrained_model = [\"xlm-r-bert-base-nli-stsb-mean-tokens\", # multilingual model\n",
        "                         \"KB/bert-base-swedish-cased\", \n",
        "                         \"af-ai-center/bert-large-swedish-uncased\", \n",
        "                         \"KB/electra-small-swedish-cased-generator\"]\n",
        "kw_model = KeyBERT(bert_pretrained_model[1])"
      ],
      "execution_count": null,
      "outputs": []
    },
    {
      "cell_type": "code",
      "metadata": {
        "id": "HJe7yN8jzl8K"
      },
      "source": [
        "kw_model.extract_keywords(text, stop_words=None, keyphrase_ngram_range=(1, 7), use_maxsum=True, top_n=1)"
      ],
      "execution_count": null,
      "outputs": []
    },
    {
      "cell_type": "code",
      "metadata": {
        "id": "4ZJQQ1BCp4LK"
      },
      "source": [
        "df.to_csv('./bert_topics_brakeSystem_models.csv',\n",
        "          decimal = \",\", header = True, index = False, sep = \";\", encoding = \"utf-8-sig\")"
      ],
      "execution_count": 65,
      "outputs": []
    },
    {
      "cell_type": "markdown",
      "metadata": {
        "id": "TMHRr-Nm-08I"
      },
      "source": [
        "# tf-idf"
      ]
    },
    {
      "cell_type": "code",
      "metadata": {
        "id": "_t0v9CX5_AXV"
      },
      "source": [
        "from sklearn.feature_extraction.text import TfidfVectorizer"
      ],
      "execution_count": null,
      "outputs": []
    },
    {
      "cell_type": "code",
      "metadata": {
        "id": "2A5r11Hi-6-n"
      },
      "source": [
        "# https://www.kaggle.com/jbencina/clustering-documents-with-tfidf-and-kmeans\n",
        "# Clustering documents with TFIDF and KMeans\n",
        "# \n",
        "tfidf = TfidfVectorizer(\n",
        "    min_df = 5,\n",
        "    max_df = 0.95,\n",
        "    max_features = 8000\n",
        ")\n",
        "tfidf.fit(text)\n",
        "text_tfidf = tfidf.transform(text)"
      ],
      "execution_count": null,
      "outputs": []
    },
    {
      "cell_type": "code",
      "metadata": {
        "id": "BglDfZTd_V9d"
      },
      "source": [
        "from sklearn.cluster import MiniBatchKMeans\n",
        "\n",
        "def find_optimal_clusters(data, max_k):\n",
        "    iters = range(2, max_k+1, 2)\n",
        "    \n",
        "    sse = []\n",
        "    for k in iters:\n",
        "        sse.append(MiniBatchKMeans(n_clusters=k, init_size=1024, batch_size=2048, random_state=20).fit(data).inertia_)\n",
        "        print('Fit {} clusters'.format(k))\n",
        "        \n",
        "    f, ax = plt.subplots(1, 1)\n",
        "    ax.plot(iters, sse, marker='o')\n",
        "    ax.set_xlabel('Cluster Centers')\n",
        "    ax.set_xticks(iters)\n",
        "    ax.set_xticklabels(iters)\n",
        "    ax.set_ylabel('SSE')\n",
        "    ax.set_title('SSE by Cluster Center Plot')\n",
        "    \n",
        "find_optimal_clusters(text_tfidf, 50)"
      ],
      "execution_count": null,
      "outputs": []
    },
    {
      "cell_type": "code",
      "metadata": {
        "id": "KajBWYDDAj2k"
      },
      "source": [
        "clusters = MiniBatchKMeans(n_clusters=14, init_size=1024, batch_size=2048, random_state=20).fit_predict(text_tfidf)"
      ],
      "execution_count": null,
      "outputs": []
    },
    {
      "cell_type": "code",
      "metadata": {
        "id": "cO-XNeFiAu1d"
      },
      "source": [
        "df['cluster_tfidf'] = clusters\n",
        "df"
      ],
      "execution_count": null,
      "outputs": []
    },
    {
      "cell_type": "code",
      "metadata": {
        "id": "GdMHv_9QA4gz"
      },
      "source": [
        "df.to_csv('./bert_topics_brakeSystem_model_tfidf.csv',\n",
        "          decimal = \",\", header = True, index = False, sep = \";\", encoding = \"utf-8-sig\")"
      ],
      "execution_count": null,
      "outputs": []
    },
    {
      "cell_type": "code",
      "metadata": {
        "id": "58EBChnjVcIu"
      },
      "source": [
        "while True:pass"
      ],
      "execution_count": null,
      "outputs": []
    }
  ]
}