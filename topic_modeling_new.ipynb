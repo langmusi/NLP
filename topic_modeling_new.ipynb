{
  "cells": [
    {
      "cell_type": "code",
      "execution_count": null,
      "metadata": {
        "id": "sIlPm4VM1UNa"
      },
      "outputs": [],
      "source": [
        "!pip install bertopic\n",
        "!pip install bertopic[visualization]"
      ]
    },
    {
      "cell_type": "code",
      "execution_count": null,
      "metadata": {
        "id": "ggSz3uJo2o5h"
      },
      "outputs": [],
      "source": [
        "from bertopic import BERTopic"
      ]
    },
    {
      "cell_type": "code",
      "execution_count": null,
      "metadata": {
        "id": "hh8zplMw1aZ6"
      },
      "outputs": [],
      "source": [
        "import pandas as pd\n",
        "import numpy as np\n",
        "import re\n",
        "\n",
        "import matplotlib.pyplot as plt"
      ]
    },
    {
      "cell_type": "code",
      "execution_count": null,
      "metadata": {
        "id": "Tzj-GaXEfuwY"
      },
      "outputs": [],
      "source": [
        "from IPython.core.interactiveshell import InteractiveShell\n",
        "InteractiveShell.ast_node_interactivity = \"all\""
      ]
    },
    {
      "cell_type": "markdown",
      "metadata": {
        "id": "3Z2lMu1TblRB"
      },
      "source": [
        "## Reading Data"
      ]
    },
    {
      "cell_type": "code",
      "execution_count": null,
      "metadata": {
        "colab": {
          "base_uri": "https://localhost:8080/",
          "height": 388
        },
        "id": "l_UNBzEW1QoL",
        "outputId": "90e3f6b5-b189-4812-a922-f7e17d0e69c4"
      },
      "outputs": [],
      "source": [
        "df = pd.read_csv('/content/open_dmg_6.csv', sep = ';')   # open_dmg_subset_eventcode.csv  # open_dmg_2\n",
        "print(df.shape)\n",
        "df.head()"
      ]
    },
    {
      "cell_type": "markdown",
      "metadata": {
        "id": "loQjxJyZ7rdF"
      },
      "source": [
        "## Cleaning the Text\n",
        "\n",
        "Removing stopwords. \n",
        "\n",
        "*Not need to clean the texts because the texts are clean*"
      ]
    },
    {
      "cell_type": "code",
      "execution_count": null,
      "metadata": {
        "id": "Px6OxRHN8kzQ"
      },
      "outputs": [],
      "source": [
        "# from nltk.stem import SnowballStemmer\n",
        "# from nltk.corpus import stopwords\n",
        "# import nltk\n",
        "\n",
        "# nltk.download('stopwords')\n",
        "\n",
        "# stopwords = stopwords.words('swedish')\n",
        "\n",
        "# def PreprocessText(document):\n",
        "      \n",
        "#     # Removing stopwords\n",
        "#     tokens = document.split()\n",
        "#     tokens = [word for word in tokens if word not in stopwords]\n",
        "\n",
        "#     document = ' '.join(tokens)\n",
        "    \n",
        "#     # Stemming words\n",
        "#     stemmer = SnowballStemmer(\"swedish\")\n",
        "#     document = stemmer.stem(document)\n",
        "    \n",
        "#     return document"
      ]
    },
    {
      "cell_type": "code",
      "execution_count": null,
      "metadata": {
        "id": "sGNMKb7o9ooY"
      },
      "outputs": [],
      "source": [
        "# df['Text_stopwords_removed'] = [PreprocessText(t) for t in df['Text']]\n",
        "# df[['Text_stopwords_removed', 'Text']]"
      ]
    },
    {
      "cell_type": "code",
      "execution_count": null,
      "metadata": {
        "id": "nVeLZj3B7-dY"
      },
      "outputs": [],
      "source": [
        "text = df['Text'].tolist()"
      ]
    },
    {
      "cell_type": "markdown",
      "metadata": {
        "id": "lYhAv8nW07_t"
      },
      "source": [
        "### Checking Max Length of the Sentences"
      ]
    },
    {
      "cell_type": "code",
      "execution_count": null,
      "metadata": {
        "id": "xmnJS9wqsRVt"
      },
      "outputs": [],
      "source": [
        "#!pip install transformers"
      ]
    },
    {
      "cell_type": "code",
      "execution_count": null,
      "metadata": {
        "id": "obOFu_gSNHFb"
      },
      "outputs": [],
      "source": [
        "!pip install -U sentence-transformers"
      ]
    },
    {
      "cell_type": "code",
      "execution_count": null,
      "metadata": {
        "id": "pI9bSoz_0gyu"
      },
      "outputs": [],
      "source": [
        "from transformers import BertTokenizer\n",
        "\n",
        "tokenizer = BertTokenizer.from_pretrained('KB/electra-small-swedish-cased-generator')\n",
        "max_len = 0\n",
        "\n",
        "# For every sentence...\n",
        "for sent in text:\n",
        "\n",
        "    # Tokenize the text and add `[CLS]` and `[SEP]` tokens.\n",
        "    input_ids = tokenizer.encode(sent, add_special_tokens=True)\n",
        "\n",
        "    # Update the maximum sentence length.\n",
        "    max_len = max(max_len, len(input_ids))\n",
        "    \n",
        "    # Update the minimum sentence length\n",
        "\n",
        "print('Max sentence length: ', max_len)"
      ]
    },
    {
      "cell_type": "markdown",
      "metadata": {
        "id": "piaIasUULe9F"
      },
      "source": [
        "# Topic Modeling"
      ]
    },
    {
      "cell_type": "code",
      "execution_count": null,
      "metadata": {
        "id": "ZC0l299P1rxS"
      },
      "outputs": [],
      "source": [
        "#topic_model = BERTopic(embedding_model=model, calculate_probabilities=True, nr_topics=\"auto\") \n",
        "#topic_model = BERTopic(embedding_model=\"KB/bert-base-swedish-cased\", calculate_probabilities=True, nr_topics = 30) \n",
        "# model\n",
        "\n",
        "# af-ai-center/bert-large-swedish-uncased\n",
        "# KB/electra-small-swedish-cased-generator\n",
        "bert_pretrained_model = [\"KB/bert-base-swedish-cased\", \"af-ai-center/bert-large-swedish-uncased\", \"KB/electra-small-swedish-cased-generator\"]\n",
        "topic_model = BERTopic(embedding_model=bert_pretrained_model[0], calculate_probabilities=True, nr_topics=15) "
      ]
    },
    {
      "cell_type": "code",
      "execution_count": null,
      "metadata": {
        "id": "_DpyaSW08ID5"
      },
      "outputs": [],
      "source": [
        "topics, probs = topic_model.fit_transform(text)"
      ]
    },
    {
      "cell_type": "code",
      "execution_count": null,
      "metadata": {
        "id": "Fly-QwSd0C2X"
      },
      "outputs": [],
      "source": [
        "# Further reduce topics\n",
        "new_topics, new_probs = topic_model.reduce_topics(text, topics, probabilities=probs, nr_topics=30)"
      ]
    },
    {
      "cell_type": "code",
      "execution_count": null,
      "metadata": {
        "id": "Xsol9ZL98wcJ"
      },
      "outputs": [],
      "source": [
        "topic_freq = topic_model.get_topic_freq()\n",
        "outliers = topic_freq['Count'][topic_freq['Topic']==-1].iloc[0]\n",
        "print(f\"{outliers} texts have not been classified\")\n",
        "print(f\"The other {topic_freq['Count'].sum() - outliers} texts are {topic_freq['Topic'].shape[0]-1} topics\")"
      ]
    },
    {
      "cell_type": "code",
      "execution_count": null,
      "metadata": {
        "id": "1aR4sxwK9AQq"
      },
      "outputs": [],
      "source": [
        "topic_freq "
      ]
    },
    {
      "cell_type": "code",
      "execution_count": null,
      "metadata": {
        "id": "GAZSLcXZemGW"
      },
      "outputs": [],
      "source": [
        "df_sub_dat_eventcode = df.copy()\n",
        "print(df_sub_dat_eventcode.shape)\n",
        "# df_whole_dat.drop(\"Text\", axis=1, inplace=True)\n",
        "# df_whole_dat.shape"
      ]
    },
    {
      "cell_type": "code",
      "execution_count": null,
      "metadata": {
        "id": "lyZtOJK09FKg"
      },
      "outputs": [],
      "source": [
        "#len(topics)\n",
        "df_whole_dat['kb_sv_base_Topics'] = topics\n",
        "#df_whole_dat.drop('Topics', axis=1, inplace=True)\n",
        "df_whole_dat.head()"
      ]
    },
    {
      "cell_type": "code",
      "execution_count": null,
      "metadata": {
        "id": "knXuliXV9OPo"
      },
      "outputs": [],
      "source": [
        "df_sub_dat_eventcode.to_csv('./bert_topics_brakeSystem_subdat_eventcode_allmodels.csv',\n",
        "                         decimal = \",\", header = True, index = False, sep = \";\", encoding = \"utf-8-sig\")"
      ]
    },
    {
      "cell_type": "code",
      "execution_count": null,
      "metadata": {
        "id": "c3v5sTmSo8Vq"
      },
      "outputs": [],
      "source": [
        "df_sub_dat_eventcode['roberta_Topics'] = topics\n",
        "#df_whole_dat.drop('Topics', axis=1, inplace=True)\n",
        "df_sub_dat_eventcode.head()"
      ]
    },
    {
      "cell_type": "markdown",
      "metadata": {
        "id": "eLEhKaN8Loj-"
      },
      "source": [
        "# HDBSCAN - Cluster"
      ]
    },
    {
      "cell_type": "markdown",
      "metadata": {
        "id": "iQUc7W8dgx3I"
      },
      "source": [
        "### SentenceTransformers Sentence-embedding"
      ]
    },
    {
      "cell_type": "code",
      "execution_count": null,
      "metadata": {
        "id": "uHYx3l0GNKoJ"
      },
      "outputs": [],
      "source": [
        "from sentence_transformers import SentenceTransformer"
      ]
    },
    {
      "cell_type": "code",
      "execution_count": null,
      "metadata": {
        "id": "U1HwjN9_f7sL"
      },
      "outputs": [],
      "source": [
        "#topic_model = BERTopic(embedding_model=model, calculate_probabilities=True, nr_topics=\"auto\") \n",
        "#topic_model = BERTopic(embedding_model=\"KB/bert-base-swedish-cased\", calculate_probabilities=True, nr_topics = 30) \n",
        "# model\n",
        "\n",
        "# af-ai-center/bert-large-swedish-uncased\n",
        "# KB/electra-small-swedish-cased-generator\n",
        "\n",
        "bert_pretrained_model = [\"KB/bert-base-swedish-cased\", \"af-ai-center/bert-large-swedish-uncased\", \"KB/electra-small-swedish-cased-generator\"]\n",
        "sbert_pretained_model = \"Contrastive-Tension/BERT-Base-Swe-CT-STSb\"\n",
        "model_st = SentenceTransformer(bert_pretrained_model[0], device='cuda')  # stsb-xlm-r-multilingual"
      ]
    },
    {
      "cell_type": "code",
      "execution_count": null,
      "metadata": {
        "colab": {
          "base_uri": "https://localhost:8080/",
          "height": 82,
          "referenced_widgets": [
            "f2373eb2ec474a98a2817b4260c220d7",
            "1a91c7abb46740bbad994546669b2517",
            "7c97c99b159a460b8373c743da481339",
            "168650e357974a8cbe8c6927cf9995b9",
            "eb0607e09225414898d0e1f82fd1f9b6",
            "e03f1a5e35494d45805bf528782e6969",
            "d1610904a2f1433a9ea914836fba403e",
            "dac90845b20b4b6bb9b7cd4b3f50bc01"
          ]
        },
        "id": "oWe6L1Jd1sHZ",
        "outputId": "7ba72de3-0274-4b9f-8c79-471f4ba96854"
      },
      "outputs": [],
      "source": [
        "# https://www.sbert.net/examples/applications/computing-embeddings/README.html\n",
        "model_st.max_seq_length = 80\n",
        "\n",
        "sentence_embeddings = model_st.encode(text, normalize_embeddings=True, show_progress_bar=True)\n",
        "sentence_embeddings.shape\n",
        "len(sentence_embeddings[0])"
      ]
    },
    {
      "cell_type": "code",
      "execution_count": null,
      "metadata": {
        "colab": {
          "base_uri": "https://localhost:8080/"
        },
        "id": "j-2s7I9xgIA2",
        "outputId": "4f0e9457-a25a-43f9-b4e5-a063a706ca68"
      },
      "outputs": [],
      "source": [
        "type(sentence_embeddings)"
      ]
    },
    {
      "cell_type": "code",
      "execution_count": null,
      "metadata": {
        "id": "Nd4YFpH4gLx5"
      },
      "outputs": [],
      "source": [
        "for sentence, embedding in zip(text[:2], sentence_embeddings[0:2]):\n",
        "    print(\"Sentence:\", sentence)\n",
        "    print(\"Embedding:\", embedding)\n",
        "    print(\"\")"
      ]
    },
    {
      "cell_type": "markdown",
      "metadata": {
        "id": "KHu0x7D1LSwQ"
      },
      "source": [
        "### Testing Contrastive Tension Model"
      ]
    },
    {
      "cell_type": "code",
      "execution_count": null,
      "metadata": {
        "id": "KHvU52blahTW"
      },
      "outputs": [],
      "source": [
        "!pip install transformers"
      ]
    },
    {
      "cell_type": "code",
      "execution_count": null,
      "metadata": {
        "id": "bfeFy2NdLRnB"
      },
      "outputs": [],
      "source": [
        "from torchvision import transforms\n",
        "from transformers import AutoTokenizer, AutoModel\n",
        "\n",
        "sbert_pretained_model = \"Contrastive-Tension/BERT-Base-Swe-CT-STSb\"\n",
        "model_ct = AutoModel.from_pretrained(sbert_pretained_model)\n",
        "tokenizer_ct = AutoTokenizer.from_pretrained(sbert_pretained_model)\n",
        "#model_ct_st = SentenceTransformer(model_ct, device='cuda')  "
      ]
    },
    {
      "cell_type": "code",
      "execution_count": null,
      "metadata": {
        "id": "pPv31iEfP46K"
      },
      "outputs": [],
      "source": [
        "# https://github.com/huggingface/transformers/blob/master/README.md\n",
        "#inputs = tokenizer_ct(\"Hello world!\", return_tensors=\"pt\")\n",
        "\n",
        "inputs = [tokenizer_ct(t, return_tensors=\"pt\") for t in text]\n",
        "\n",
        "#outputs = model_ct(**inputs)\n",
        "outputs = [model_ct(**t) for t in inputs]"
      ]
    },
    {
      "cell_type": "code",
      "execution_count": null,
      "metadata": {
        "colab": {
          "base_uri": "https://localhost:8080/"
        },
        "id": "7tX2gOZNVo0n",
        "outputId": "6a445f22-0981-4b8c-9f60-b4bc3fbf0396"
      },
      "outputs": [],
      "source": [
        "len(outputs)\n",
        "outputs[2][1].shape"
      ]
    },
    {
      "cell_type": "code",
      "execution_count": null,
      "metadata": {
        "colab": {
          "base_uri": "https://localhost:8080/"
        },
        "id": "jkkFA2XpV5N2",
        "outputId": "46175780-ccc3-4ad8-ca13-540169a0e7f3"
      },
      "outputs": [],
      "source": [
        "ct_embedding = []\n",
        "\n",
        "for i in range(len(outputs)):\n",
        "  ct_embedding.append(outputs[i][1])\n",
        "\n",
        "len(ct_embedding)\n",
        "ct_embedding[2].shape\n",
        "print(type(ct_embedding))"
      ]
    },
    {
      "cell_type": "code",
      "execution_count": null,
      "metadata": {
        "colab": {
          "base_uri": "https://localhost:8080/"
        },
        "id": "8fd_JnyxaCM3",
        "outputId": "477df8f4-e7dc-4b5f-8f12-8617c485274b"
      },
      "outputs": [],
      "source": [
        "#In general you can concatenate a whole sequence of arrays along any axis:\n",
        "import torch\n",
        "\n",
        "ct_embedding = [arr.detach().numpy() for arr in ct_embedding]\n",
        "ct_embedding = np.concatenate(ct_embedding, axis=0)\n",
        "ct_embedding.shape"
      ]
    },
    {
      "cell_type": "code",
      "execution_count": null,
      "metadata": {
        "colab": {
          "base_uri": "https://localhost:8080/"
        },
        "id": "ggIjKmvejjGE",
        "outputId": "92c46c84-05d4-45a6-8a25-5bd1682a2b6f"
      },
      "outputs": [],
      "source": [
        "ct_embedding"
      ]
    },
    {
      "cell_type": "markdown",
      "metadata": {
        "id": "y6lcyrJsd2G3"
      },
      "source": [
        "### Dimension Reduction\n",
        "\n",
        "Why is dimensionality reduction always done before clustering? - https://stats.stackexchange.com/questions/256172/why-is-dimensionality-reduction-always-done-before-clustering\n",
        "\n",
        "R: https://towardsdatascience.com/how-to-cluster-in-high-dimensions-4ef693bacc6: Graph-based clustering (Spectral, SNN-cliq, Seurat) is perhaps most robust for high-dimensional data as it uses the distance on a graph.\n",
        "\n",
        "(From the same article as the above link shows)HDBSCAN, i.e. Hierarchical DBSCAN, is a powerful density-based clustering algorithm which is: 1) indifferent to the shape of clusters, 2) does not require the number of clusters to be specified, 3) robust with respect to clusters with different density. Further, HBDSCAN is very attractive because it has only one hyperparameter minPts which is the minimal number of points in a cluster. It is relatively fast for large data sets, detects outlying cells, and for each cell it reports a probability of assignment to a cluster."
      ]
    },
    {
      "cell_type": "markdown",
      "metadata": {
        "id": "v3FsHYehjywm"
      },
      "source": [
        "One very popular method for visualizing document similarity is to use t-distributed stochastic neighbor embedding, t-SNE. - https://www.scikit-yb.org/en/latest/api/text/tsne.html"
      ]
    },
    {
      "cell_type": "markdown",
      "metadata": {
        "id": "2nj3EW05oVDK"
      },
      "source": [
        "#### UMAP\n",
        "\n",
        "Uniform Manifold Approximation and Projection for Dimension Reduction"
      ]
    },
    {
      "cell_type": "code",
      "execution_count": null,
      "metadata": {
        "id": "zDvqYDN6s5pc"
      },
      "outputs": [],
      "source": [
        "!pip install umap-learn"
      ]
    },
    {
      "cell_type": "code",
      "execution_count": null,
      "metadata": {
        "id": "TsDqUYX1d4L3"
      },
      "outputs": [],
      "source": [
        "import umap"
      ]
    },
    {
      "cell_type": "code",
      "execution_count": null,
      "metadata": {
        "colab": {
          "base_uri": "https://localhost:8080/"
        },
        "id": "4XdMXC0po4Iq",
        "outputId": "db646ec4-607d-46e6-9309-4e9e8b646d27"
      },
      "outputs": [],
      "source": [
        "# https://umap-learn.readthedocs.io/en/latest/sparse.html A text analysis example\n",
        "reducer = umap.UMAP(metric='cosine', random_state=42)  # hellinger does not support negative values\n",
        "reducer.fit(ct_embedding) # sentence_embeddings"
      ]
    },
    {
      "cell_type": "code",
      "execution_count": null,
      "metadata": {
        "colab": {
          "base_uri": "https://localhost:8080/"
        },
        "id": "1dv3kJy4pUTg",
        "outputId": "fc809e16-c4a3-46b4-af70-5b56f06a0a34"
      },
      "outputs": [],
      "source": [
        "umap_embedding = reducer.transform(ct_embedding) # sentence_embeddings\n",
        "# Verify that the result of calling transform is\n",
        "# idenitical to accessing the embedding_ attribute\n",
        "assert(np.all(umap_embedding == reducer.embedding_))\n",
        "umap_embedding.shape"
      ]
    },
    {
      "cell_type": "code",
      "execution_count": null,
      "metadata": {
        "id": "Y355nE8Hp1I-"
      },
      "outputs": [],
      "source": [
        "plt.scatter(umap_embedding[:, 0], umap_embedding[:, 1],cmap='Spectral', s=5)\n",
        "plt.gca().set_aspect('equal', 'datalim')\n",
        "plt.colorbar(boundaries=np.arange(11)-0.5).set_ticks(np.arange(10))\n",
        "plt.title('UMAP projection of the texts', fontsize=24);"
      ]
    },
    {
      "cell_type": "markdown",
      "metadata": {
        "id": "D2kRE7d98W90"
      },
      "source": [
        "## HDBSCAN\n",
        "\n",
        "https://hdbscan.readthedocs.io/en/latest/parameter_selection.html\n",
        "\n",
        "https://www.johnkraszewski.com/nlp\n",
        "Two investigated algorithms were k-means clustering (Ball Tree) (22) and HDBSCAN (23). As shown in the following visualizations, the latter method was found to be much superior with regard to the cluster structure and consistency at the cost of higher complexity. Another benefit of the chosen algorithm was specifying outliers (cluster -1, dark grey)."
      ]
    },
    {
      "cell_type": "code",
      "execution_count": null,
      "metadata": {
        "id": "Io4iYa44s_86"
      },
      "outputs": [],
      "source": [
        "!pip install hdbscan"
      ]
    },
    {
      "cell_type": "code",
      "execution_count": null,
      "metadata": {
        "id": "UEoldCuOguSq"
      },
      "outputs": [],
      "source": [
        "import hdbscan\n",
        "import sklearn.cluster as cluster\n",
        "import time\n",
        "import seaborn as sns\n",
        "%matplotlib inline\n",
        "sns.set_context('poster')\n",
        "sns.set_color_codes()\n",
        "plot_kwds = {'alpha' : 0.25, 's' : 80, 'linewidths':0}\n",
        "\n",
        "#from sklearn.preprocessing import StandardScaler "
      ]
    },
    {
      "cell_type": "code",
      "execution_count": null,
      "metadata": {
        "id": "d1UAUsCC9JmC"
      },
      "outputs": [],
      "source": [
        "def plot_clusters(data, algorithm, args, kwds):\n",
        "    start_time = time.time()\n",
        "    labels = algorithm(*args, **kwds).fit_predict(data)\n",
        "    end_time = time.time()\n",
        "    palette = sns.color_palette('deep', np.unique(labels).max() + 1)\n",
        "    colors = [palette[x] if x >= 0 else (0.0, 0.0, 0.0) for x in labels]\n",
        "    plt.scatter(data.T[0], data.T[1], c=colors, **plot_kwds)\n",
        "    frame = plt.gca()\n",
        "    frame.axes.get_xaxis().set_visible(False)\n",
        "    frame.axes.get_yaxis().set_visible(False)\n",
        "    plt.title('Clusters found by {}'.format(str(algorithm.__name__)), fontsize=24)\n",
        "    plt.text(-0.5, 0.7, 'Clustering took {:.2f} s'.format(end_time - start_time), fontsize=14)"
      ]
    },
    {
      "cell_type": "code",
      "execution_count": null,
      "metadata": {
        "colab": {
          "base_uri": "https://localhost:8080/",
          "height": 285
        },
        "id": "bHiCr5Lniq3q",
        "outputId": "1439d7f9-f894-40ff-f184-72a6ccb66842"
      },
      "outputs": [],
      "source": [
        "plot_clusters(umap_embedding, hdbscan.HDBSCAN, (), {'min_cluster_size':50})"
      ]
    },
    {
      "cell_type": "code",
      "execution_count": null,
      "metadata": {
        "id": "uQZIojVlIGoU"
      },
      "outputs": [],
      "source": [
        "plot_clusters(sentence_embeddings, hdbscan.HDBSCAN, (), {'min_cluster_size':50})"
      ]
    },
    {
      "cell_type": "code",
      "execution_count": null,
      "metadata": {
        "id": "v2X2UzpR9oOy"
      },
      "outputs": [],
      "source": [
        "plot_clusters(umap_embedding, cluster.SpectralClustering, (), {'n_clusters':6})"
      ]
    },
    {
      "cell_type": "code",
      "execution_count": null,
      "metadata": {
        "id": "7fK8tYln95hS"
      },
      "outputs": [],
      "source": [
        "plot_clusters(umap_embedding, cluster.DBSCAN, (), {'eps':5.25})"
      ]
    },
    {
      "cell_type": "code",
      "execution_count": null,
      "metadata": {
        "id": "Dir6yzpPjEgH"
      },
      "outputs": [],
      "source": [
        "# min_samples: We can recover some of our original clusters by explicitly providing min_samples at the original value of 15.\n",
        "# Increasing the min_cluster_size to 30 reduces the number of clusters, merging some together.\n",
        "# The larger the value of min_samples you provide, the more conservative the clustering – more points will be declared as noise, and clusters will be restricted to progressively more dense areas. \n",
        "# Leaf clustering: https://hdbscan.readthedocs.io/en/latest/parameter_selection.html\n",
        "# A: https://hdbscan.readthedocs.io/en/latest/api.html\n",
        "\n",
        "clusterer = hdbscan.HDBSCAN(min_cluster_size=20, \n",
        "                            #min_samples=15, \n",
        "                            #gen_min_span_tree=True, \n",
        "                            #cluster_selection_method='leaf',\n",
        "                            metric='l2', #  If metric is “precomputed”, X is assumed to be a distance matrix and must be square. -A\n",
        "                            allow_single_cluster=True)\n",
        "\n",
        "clusterer.fit(umap_embedding)"
      ]
    },
    {
      "cell_type": "markdown",
      "metadata": {
        "id": "oewIi77UHmnM"
      },
      "source": [
        "### Searching Grid for min_cluster_size"
      ]
    },
    {
      "cell_type": "code",
      "execution_count": null,
      "metadata": {
        "id": "BHv61Qq3EyoX"
      },
      "outputs": [],
      "source": [
        "from sklearn.metrics import silhouette_samples, silhouette_score"
      ]
    },
    {
      "cell_type": "code",
      "execution_count": null,
      "metadata": {
        "id": "gOWUHzNsHr9k"
      },
      "outputs": [],
      "source": [
        "for size in range(10, 40, 5):\n",
        "  clusterer = hdbscan.HDBSCAN(min_cluster_size=size)\n",
        "  labels = clusterer.fit_predict(umap_embedding)\n",
        "\n",
        "  #print((silhouette_score(umap_embedding, labels, metric='euclidean')))\n",
        "  print(\"With size {} and metric euclidean. silhouette_score is {}\".format(size, silhouette_score(umap_embedding, labels, metric='euclidean')))\n",
        "  print(\"With size {} and metric cosine. silhouette_score is {}\".format(size, silhouette_score(umap_embedding, labels, metric='cosine')))\n",
        "  #print((silhouette_score(umap_embedding, labels, metric='cosine')))"
      ]
    },
    {
      "cell_type": "code",
      "execution_count": null,
      "metadata": {
        "id": "KGPSOH01Jm7h"
      },
      "outputs": [],
      "source": [
        "for size in range(10, 40, 5):\n",
        "  clusterer = hdbscan.HDBSCAN(min_cluster_size=size)\n",
        "  labels = clusterer.fit_predict(sentence_embeddings)\n",
        "\n",
        "  print((silhouette_score(sentence_embeddings, labels, metric='euclidean')))\n",
        "  print((silhouette_score(sentence_embeddings, labels, metric='cosine')))"
      ]
    },
    {
      "cell_type": "code",
      "execution_count": null,
      "metadata": {
        "id": "QuSyT8onJmmw"
      },
      "outputs": [],
      "source": [
        "color_palette = sns.color_palette('Paired', 12)\n",
        "cluster_colors = [color_palette[x] if x >= 0\n",
        "                  else (0.5, 0.5, 0.5)\n",
        "                  for x in clusterer.labels_]\n",
        "cluster_member_colors = [sns.desaturate(x, p) for x, p in\n",
        "                         zip(cluster_colors, clusterer.probabilities_)]\n",
        "#cluster_colors\n",
        "plt.scatter(umap_embedding[:, 0], umap_embedding[:, 1], c=cluster_colors, **plot_kwds)"
      ]
    },
    {
      "cell_type": "code",
      "execution_count": null,
      "metadata": {
        "id": "XL6eZg1fIUnZ"
      },
      "outputs": [],
      "source": [
        "print(clusterer.labels_.max())\n",
        "\n",
        "# Number of clusters in labels, ignoring noise if present.\n",
        "n_clusters_ = len(set(clusterer.labels_)) - (1 if -1 in clusterer.labels_ else 0)\n",
        "print(n_clusters_)\n",
        "\n",
        "n_noise_ = list(clusterer.labels_).count(-1)\n",
        "print(n_noise_)"
      ]
    },
    {
      "cell_type": "code",
      "execution_count": null,
      "metadata": {
        "id": "w4D-EgfSEjDQ"
      },
      "outputs": [],
      "source": [
        "# building cluster hierarchy\n",
        "clusterer.single_linkage_tree_.plot(cmap='viridis', colorbar=True)"
      ]
    },
    {
      "cell_type": "code",
      "execution_count": null,
      "metadata": {
        "id": "oJCGOfsFAl-X"
      },
      "outputs": [],
      "source": [
        "clusterer.fit(sentence_embeddings)\n",
        "\n",
        "palette = sns.color_palette()\n",
        "cluster_colors = [sns.desaturate(palette[col], sat)\n",
        "                  if col >= 0 else (0.5, 0.5, 0.5) for col, sat in\n",
        "                  zip(clusterer.labels_, clusterer.probabilities_)]\n",
        "#cluster_colors\n",
        "plt.scatter(umap_embedding[:, 0], umap_embedding[:, 1], c=cluster_colors, **plot_kwds)"
      ]
    },
    {
      "cell_type": "code",
      "execution_count": null,
      "metadata": {
        "id": "yxLKKvOcIagc"
      },
      "outputs": [],
      "source": [
        "clusterer.labels_.max()"
      ]
    },
    {
      "cell_type": "markdown",
      "metadata": {
        "id": "BRfQDdCiEGt8"
      },
      "source": [
        "### Silhouette Score"
      ]
    },
    {
      "cell_type": "code",
      "execution_count": null,
      "metadata": {
        "id": "g2y-wIo3E5LS"
      },
      "outputs": [],
      "source": [
        "# The silhouette_score gives the average value for all the samples.\n",
        "# This gives a perspective into the density and separation of the formed clusters\n",
        "print(silhouette_score(umap_embedding, clusterer.labels_, metric='cosine'))\n",
        "print(silhouette_score(sentence_embeddings, clusterer.labels_, metric='cosine'))\n",
        "print(silhouette_score(umap_embedding, clusterer.labels_, metric='euclidean'))\n",
        "silhouette_score(sentence_embeddings, clusterer.labels_, metric='euclidean')"
      ]
    },
    {
      "cell_type": "code",
      "execution_count": null,
      "metadata": {
        "id": "0ZkRlaOVxqGv"
      },
      "outputs": [],
      "source": [
        " # Compute the silhouette scores for each sample\n",
        "sample_silhouette_values = silhouette_samples(umap_embedding, cluster_labels)"
      ]
    },
    {
      "cell_type": "code",
      "execution_count": null,
      "metadata": {
        "id": "xvLreecGAao-"
      },
      "outputs": [],
      "source": [
        "clusterer.minimum_spanning_tree_.plot(edge_cmap='viridis',\n",
        "                                      edge_alpha=0.6,\n",
        "                                      node_size=80,\n",
        "                                      edge_linewidth=2)"
      ]
    },
    {
      "cell_type": "code",
      "execution_count": null,
      "metadata": {
        "id": "mGcBSHjXA7Dm"
      },
      "outputs": [],
      "source": [
        "clusterer.labels_"
      ]
    },
    {
      "cell_type": "markdown",
      "metadata": {
        "id": "mzJowuw9lZVc"
      },
      "source": [
        "## Custom Function for All Models"
      ]
    },
    {
      "cell_type": "code",
      "execution_count": null,
      "metadata": {
        "id": "tFESEyW0REfr"
      },
      "outputs": [],
      "source": [
        "def mycluster(text_list, bert_model, custom_mincluster_size, dimension_reduc_embedding = True, custom_max_seq_length = 35):\n",
        "  \n",
        "  # sentence embedding\n",
        "  model_st = SentenceTransformer(bert_model, device='cuda') \n",
        "  model_st.max_seq_length = custom_max_seq_length\n",
        "  sentence_embeddings = model_st.encode(text_list, normalize_embeddings=True, show_progress_bar=True)\n",
        "\n",
        "  # dimension reduction\n",
        "  reducer = umap.UMAP(random_state=42, metric='cosine')\n",
        "  reducer.fit(sentence_embeddings)\n",
        "  umap_embedding = reducer.transform(sentence_embeddings)\n",
        "\n",
        "  # clustering HDBSCAN\n",
        "  clusterer = hdbscan.HDBSCAN(min_cluster_size=custom_mincluster_size)\n",
        "  \n",
        "  if dimension_reduc_embedding == True:\n",
        "    clusterer.fit(umap_embedding)\n",
        "  else:\n",
        "    clusterer.fit(sentence_embeddings)\n",
        "\n",
        "  unique_value = np.unique(clusterer.labels_)\n",
        "\n",
        "  return clusterer.labels_, unique_value\n"
      ]
    },
    {
      "cell_type": "code",
      "execution_count": null,
      "metadata": {
        "id": "IYlhtH9JBqqc"
      },
      "outputs": [],
      "source": [
        "def mycluster_ct(text_list, custom_mincluster_size, dimension_reduc_embedding = True):\n",
        "  \n",
        "  # sentence embedding\n",
        "  # model_st = transformers.AutoModel.from_pretrained(bert_model)\n",
        "  # model_st = SentenceTransformer(bert_model, device='cuda')  \n",
        "  # model_st.max_seq_length = custom_max_seq_length\n",
        "  # sentence_embeddings = model_st.encode(text_list, normalize_embeddings=True, show_progress_bar=True)\n",
        "\n",
        "  # dimension reduction\n",
        "  reducer = umap.UMAP(random_state=42, metric='cosine')\n",
        "  reducer.fit(ct_embedding)\n",
        "  umap_embedding = reducer.transform(ct_embedding)\n",
        "\n",
        "  # clustering HDBSCAN\n",
        "  clusterer = hdbscan.HDBSCAN(min_cluster_size=custom_mincluster_size)\n",
        "  \n",
        "  if dimension_reduc_embedding == True:\n",
        "    clusterer.fit(umap_embedding)\n",
        "  else:\n",
        "    clusterer.fit(ct_embedding)\n",
        "\n",
        "  unique_value = np.unique(clusterer.labels_)\n",
        "\n",
        "  return clusterer.labels_, unique_value"
      ]
    },
    {
      "cell_type": "code",
      "execution_count": null,
      "metadata": {
        "id": "hPA-_wTCK7Mn"
      },
      "outputs": [],
      "source": [
        "custom_min_cluster_size = 20"
      ]
    },
    {
      "cell_type": "code",
      "execution_count": null,
      "metadata": {
        "id": "LTQb0sGUxe5o"
      },
      "outputs": [],
      "source": [
        "#topic_model = BERTopic(embedding_model=\"KB/bert-base-swedish-cased\", calculate_probabilities=True, nr_topics = 30) \n",
        "# model\n",
        "\n",
        "# af-ai-center/bert-large-swedish-uncased\n",
        "# KB/electra-small-swedish-cased-generator\n",
        "\n",
        "bert_pretrained_model = [\"KB/bert-base-swedish-cased\", \"af-ai-center/bert-large-swedish-uncased\", \"KB/electra-small-swedish-cased-generator\"]\n",
        "sbert_pretrained_model = \"Contrastive-Tension/BERT-Base-Swe-CT-STSb\"\n",
        "bert_base_cluster, bert_base_unique_cluster = mycluster_sbert(text, bert_model=sbert_pretrained_model,\n",
        "                                                        dimension_reduc_embedding = True,\n",
        "                                                        custom_mincluster_size = custom_min_cluster_size)\n",
        "#elec_cluster\n",
        "bert_base_unique_cluster"
      ]
    },
    {
      "cell_type": "code",
      "execution_count": null,
      "metadata": {
        "id": "2qDuL650lEhP"
      },
      "outputs": [],
      "source": [
        "#topic_model = BERTopic(embedding_model=\"KB/bert-base-swedish-cased\", calculate_probabilities=True, nr_topics = 30) \n",
        "# model\n",
        "\n",
        "# af-ai-center/bert-large-swedish-uncased\n",
        "# KB/electra-small-swedish-cased-generator\n",
        "\n",
        "af_cluster, af_unique_cluster = mycluster(text, bert_model=bert_pretrained_model[1],\n",
        "                                       custom_mincluster_size = custom_min_cluster_size)\n",
        "#af_cluster\n",
        "af_unique_cluster"
      ]
    },
    {
      "cell_type": "code",
      "execution_count": null,
      "metadata": {
        "id": "4H_yHw7anSgk"
      },
      "outputs": [],
      "source": [
        "elec_cluster, elec_unique_cluster = mycluster(text, bert_model=bert_pretrained_model[2],\n",
        "                                                 custom_mincluster_size = custom_min_cluster_size)\n",
        "\n",
        "elec_unique_cluster"
      ]
    },
    {
      "cell_type": "code",
      "execution_count": null,
      "metadata": {
        "colab": {
          "base_uri": "https://localhost:8080/"
        },
        "id": "N3c0KBeCi26c",
        "outputId": "3fa85cd9-541a-47b3-bff4-1dd182b7f55b"
      },
      "outputs": [],
      "source": [
        "# ct model\n",
        "ct_cluster, ct_unique_cluster = mycluster_ct(text, dimension_reduc_embedding = True,\n",
        "                                             custom_mincluster_size = 40)\n",
        "#elec_cluster\n",
        "ct_unique_cluster"
      ]
    },
    {
      "cell_type": "code",
      "execution_count": null,
      "metadata": {
        "id": "MPh5Z9PFPBIi"
      },
      "outputs": [],
      "source": [
        "# df['af_cluster'] = af_cluster\n",
        "# df['elec_cluster'] = elec_cluster\n",
        "df['ct_cluster'] = ct_cluster\n",
        "df"
      ]
    },
    {
      "cell_type": "markdown",
      "metadata": {
        "id": "o0Xykijryysk"
      },
      "source": [
        "# KeyBERT\n",
        "\n",
        "https://github.com/MaartenGr/KeyBERT"
      ]
    },
    {
      "cell_type": "code",
      "execution_count": null,
      "metadata": {
        "id": "ua4LW8Udy55N"
      },
      "outputs": [],
      "source": [
        "!pip install keybert"
      ]
    },
    {
      "cell_type": "code",
      "execution_count": null,
      "metadata": {
        "id": "7Tt7ZRMzzMcr"
      },
      "outputs": [],
      "source": [
        "from keybert import KeyBERT"
      ]
    },
    {
      "cell_type": "code",
      "execution_count": null,
      "metadata": {
        "id": "K1NS-sz5zSRw"
      },
      "outputs": [],
      "source": [
        "# https://github.com/MaartenGr/KeyBERT/issues/24\n",
        "bert_pretrained_model = [\"xlm-r-bert-base-nli-stsb-mean-tokens\", # multilingual model\n",
        "                         \"KB/bert-base-swedish-cased\", \n",
        "                         \"af-ai-center/bert-large-swedish-uncased\", \n",
        "                         \"KB/electra-small-swedish-cased-generator\"]\n",
        "kw_model = KeyBERT(bert_pretrained_model[1])"
      ]
    },
    {
      "cell_type": "code",
      "execution_count": null,
      "metadata": {
        "id": "HJe7yN8jzl8K"
      },
      "outputs": [],
      "source": [
        "kw_model.extract_keywords(text, stop_words=None, keyphrase_ngram_range=(1, 7), use_maxsum=True, top_n=1)"
      ]
    },
    {
      "cell_type": "code",
      "execution_count": null,
      "metadata": {
        "id": "4ZJQQ1BCp4LK"
      },
      "outputs": [],
      "source": [
        "df.to_csv('./bert_topics_brakeSystem_models.csv',\n",
        "          decimal = \",\", header = True, index = False, sep = \";\", encoding = \"utf-8-sig\")"
      ]
    },
    {
      "cell_type": "markdown",
      "metadata": {
        "id": "TMHRr-Nm-08I"
      },
      "source": [
        "# tf-idf"
      ]
    },
    {
      "cell_type": "code",
      "execution_count": null,
      "metadata": {
        "id": "_t0v9CX5_AXV"
      },
      "outputs": [],
      "source": [
        "from sklearn.feature_extraction.text import TfidfVectorizer"
      ]
    },
    {
      "cell_type": "code",
      "execution_count": null,
      "metadata": {
        "id": "2A5r11Hi-6-n"
      },
      "outputs": [],
      "source": [
        "# https://www.kaggle.com/jbencina/clustering-documents-with-tfidf-and-kmeans\n",
        "# Clustering documents with TFIDF and KMeans\n",
        "# \n",
        "tfidf = TfidfVectorizer(\n",
        "    min_df = 5,\n",
        "    max_df = 0.95,\n",
        "    max_features = 8000\n",
        ")\n",
        "tfidf.fit(text)\n",
        "text_tfidf = tfidf.transform(text)"
      ]
    },
    {
      "cell_type": "code",
      "execution_count": null,
      "metadata": {
        "id": "BglDfZTd_V9d"
      },
      "outputs": [],
      "source": [
        "from sklearn.cluster import MiniBatchKMeans\n",
        "\n",
        "def find_optimal_clusters(data, max_k):\n",
        "    iters = range(2, max_k+1, 2)\n",
        "    \n",
        "    sse = []\n",
        "    for k in iters:\n",
        "        sse.append(MiniBatchKMeans(n_clusters=k, init_size=1024, batch_size=2048, random_state=20).fit(data).inertia_)\n",
        "        print('Fit {} clusters'.format(k))\n",
        "        \n",
        "    f, ax = plt.subplots(1, 1)\n",
        "    ax.plot(iters, sse, marker='o')\n",
        "    ax.set_xlabel('Cluster Centers')\n",
        "    ax.set_xticks(iters)\n",
        "    ax.set_xticklabels(iters)\n",
        "    ax.set_ylabel('SSE')\n",
        "    ax.set_title('SSE by Cluster Center Plot')\n",
        "    \n",
        "find_optimal_clusters(text_tfidf, 50)"
      ]
    },
    {
      "cell_type": "code",
      "execution_count": null,
      "metadata": {
        "id": "KajBWYDDAj2k"
      },
      "outputs": [],
      "source": [
        "clusters = MiniBatchKMeans(n_clusters=14, init_size=1024, batch_size=2048, random_state=20).fit_predict(text_tfidf)"
      ]
    },
    {
      "cell_type": "code",
      "execution_count": null,
      "metadata": {
        "id": "cO-XNeFiAu1d"
      },
      "outputs": [],
      "source": [
        "df['cluster_tfidf'] = clusters\n",
        "df"
      ]
    },
    {
      "cell_type": "code",
      "execution_count": null,
      "metadata": {
        "id": "GdMHv_9QA4gz"
      },
      "outputs": [],
      "source": [
        "df.to_csv('./bert_topics_brakeSystem_model_tfidf.csv',\n",
        "          decimal = \",\", header = True, index = False, sep = \";\", encoding = \"utf-8-sig\")"
      ]
    },
    {
      "cell_type": "code",
      "execution_count": null,
      "metadata": {
        "id": "58EBChnjVcIu"
      },
      "outputs": [],
      "source": [
        "while True:pass"
      ]
    }
  ],
  "metadata": {
    "accelerator": "GPU",
    "colab": {
      "collapsed_sections": [],
      "name": "Topic_dbscan_keyphrase.ipynb",
      "provenance": []
    },
    "kernelspec": {
      "display_name": "Python 3",
      "name": "python3"
    },
    "language_info": {
      "name": "python"
    },
    "widgets": {
      "application/vnd.jupyter.widget-state+json": {
        "168650e357974a8cbe8c6927cf9995b9": {
          "model_module": "@jupyter-widgets/controls",
          "model_name": "HTMLModel",
          "state": {
            "_dom_classes": [],
            "_model_module": "@jupyter-widgets/controls",
            "_model_module_version": "1.5.0",
            "_model_name": "HTMLModel",
            "_view_count": null,
            "_view_module": "@jupyter-widgets/controls",
            "_view_module_version": "1.5.0",
            "_view_name": "HTMLView",
            "description": "",
            "description_tooltip": null,
            "layout": "IPY_MODEL_dac90845b20b4b6bb9b7cd4b3f50bc01",
            "placeholder": "​",
            "style": "IPY_MODEL_d1610904a2f1433a9ea914836fba403e",
            "value": " 25/25 [01:11&lt;00:00,  2.87s/it]"
          }
        },
        "1a91c7abb46740bbad994546669b2517": {
          "model_module": "@jupyter-widgets/base",
          "model_name": "LayoutModel",
          "state": {
            "_model_module": "@jupyter-widgets/base",
            "_model_module_version": "1.2.0",
            "_model_name": "LayoutModel",
            "_view_count": null,
            "_view_module": "@jupyter-widgets/base",
            "_view_module_version": "1.2.0",
            "_view_name": "LayoutView",
            "align_content": null,
            "align_items": null,
            "align_self": null,
            "border": null,
            "bottom": null,
            "display": null,
            "flex": null,
            "flex_flow": null,
            "grid_area": null,
            "grid_auto_columns": null,
            "grid_auto_flow": null,
            "grid_auto_rows": null,
            "grid_column": null,
            "grid_gap": null,
            "grid_row": null,
            "grid_template_areas": null,
            "grid_template_columns": null,
            "grid_template_rows": null,
            "height": null,
            "justify_content": null,
            "justify_items": null,
            "left": null,
            "margin": null,
            "max_height": null,
            "max_width": null,
            "min_height": null,
            "min_width": null,
            "object_fit": null,
            "object_position": null,
            "order": null,
            "overflow": null,
            "overflow_x": null,
            "overflow_y": null,
            "padding": null,
            "right": null,
            "top": null,
            "visibility": null,
            "width": null
          }
        },
        "7c97c99b159a460b8373c743da481339": {
          "model_module": "@jupyter-widgets/controls",
          "model_name": "FloatProgressModel",
          "state": {
            "_dom_classes": [],
            "_model_module": "@jupyter-widgets/controls",
            "_model_module_version": "1.5.0",
            "_model_name": "FloatProgressModel",
            "_view_count": null,
            "_view_module": "@jupyter-widgets/controls",
            "_view_module_version": "1.5.0",
            "_view_name": "ProgressView",
            "bar_style": "success",
            "description": "Batches: 100%",
            "description_tooltip": null,
            "layout": "IPY_MODEL_e03f1a5e35494d45805bf528782e6969",
            "max": 25,
            "min": 0,
            "orientation": "horizontal",
            "style": "IPY_MODEL_eb0607e09225414898d0e1f82fd1f9b6",
            "value": 25
          }
        },
        "d1610904a2f1433a9ea914836fba403e": {
          "model_module": "@jupyter-widgets/controls",
          "model_name": "DescriptionStyleModel",
          "state": {
            "_model_module": "@jupyter-widgets/controls",
            "_model_module_version": "1.5.0",
            "_model_name": "DescriptionStyleModel",
            "_view_count": null,
            "_view_module": "@jupyter-widgets/base",
            "_view_module_version": "1.2.0",
            "_view_name": "StyleView",
            "description_width": ""
          }
        },
        "dac90845b20b4b6bb9b7cd4b3f50bc01": {
          "model_module": "@jupyter-widgets/base",
          "model_name": "LayoutModel",
          "state": {
            "_model_module": "@jupyter-widgets/base",
            "_model_module_version": "1.2.0",
            "_model_name": "LayoutModel",
            "_view_count": null,
            "_view_module": "@jupyter-widgets/base",
            "_view_module_version": "1.2.0",
            "_view_name": "LayoutView",
            "align_content": null,
            "align_items": null,
            "align_self": null,
            "border": null,
            "bottom": null,
            "display": null,
            "flex": null,
            "flex_flow": null,
            "grid_area": null,
            "grid_auto_columns": null,
            "grid_auto_flow": null,
            "grid_auto_rows": null,
            "grid_column": null,
            "grid_gap": null,
            "grid_row": null,
            "grid_template_areas": null,
            "grid_template_columns": null,
            "grid_template_rows": null,
            "height": null,
            "justify_content": null,
            "justify_items": null,
            "left": null,
            "margin": null,
            "max_height": null,
            "max_width": null,
            "min_height": null,
            "min_width": null,
            "object_fit": null,
            "object_position": null,
            "order": null,
            "overflow": null,
            "overflow_x": null,
            "overflow_y": null,
            "padding": null,
            "right": null,
            "top": null,
            "visibility": null,
            "width": null
          }
        },
        "e03f1a5e35494d45805bf528782e6969": {
          "model_module": "@jupyter-widgets/base",
          "model_name": "LayoutModel",
          "state": {
            "_model_module": "@jupyter-widgets/base",
            "_model_module_version": "1.2.0",
            "_model_name": "LayoutModel",
            "_view_count": null,
            "_view_module": "@jupyter-widgets/base",
            "_view_module_version": "1.2.0",
            "_view_name": "LayoutView",
            "align_content": null,
            "align_items": null,
            "align_self": null,
            "border": null,
            "bottom": null,
            "display": null,
            "flex": null,
            "flex_flow": null,
            "grid_area": null,
            "grid_auto_columns": null,
            "grid_auto_flow": null,
            "grid_auto_rows": null,
            "grid_column": null,
            "grid_gap": null,
            "grid_row": null,
            "grid_template_areas": null,
            "grid_template_columns": null,
            "grid_template_rows": null,
            "height": null,
            "justify_content": null,
            "justify_items": null,
            "left": null,
            "margin": null,
            "max_height": null,
            "max_width": null,
            "min_height": null,
            "min_width": null,
            "object_fit": null,
            "object_position": null,
            "order": null,
            "overflow": null,
            "overflow_x": null,
            "overflow_y": null,
            "padding": null,
            "right": null,
            "top": null,
            "visibility": null,
            "width": null
          }
        },
        "eb0607e09225414898d0e1f82fd1f9b6": {
          "model_module": "@jupyter-widgets/controls",
          "model_name": "ProgressStyleModel",
          "state": {
            "_model_module": "@jupyter-widgets/controls",
            "_model_module_version": "1.5.0",
            "_model_name": "ProgressStyleModel",
            "_view_count": null,
            "_view_module": "@jupyter-widgets/base",
            "_view_module_version": "1.2.0",
            "_view_name": "StyleView",
            "bar_color": null,
            "description_width": "initial"
          }
        },
        "f2373eb2ec474a98a2817b4260c220d7": {
          "model_module": "@jupyter-widgets/controls",
          "model_name": "HBoxModel",
          "state": {
            "_dom_classes": [],
            "_model_module": "@jupyter-widgets/controls",
            "_model_module_version": "1.5.0",
            "_model_name": "HBoxModel",
            "_view_count": null,
            "_view_module": "@jupyter-widgets/controls",
            "_view_module_version": "1.5.0",
            "_view_name": "HBoxView",
            "box_style": "",
            "children": [
              "IPY_MODEL_7c97c99b159a460b8373c743da481339",
              "IPY_MODEL_168650e357974a8cbe8c6927cf9995b9"
            ],
            "layout": "IPY_MODEL_1a91c7abb46740bbad994546669b2517"
          }
        }
      }
    }
  },
  "nbformat": 4,
  "nbformat_minor": 0
}
